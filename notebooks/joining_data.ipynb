{
 "cells": [
  {
   "cell_type": "code",
   "execution_count": 1,
   "metadata": {},
   "outputs": [],
   "source": [
    "# imports \n",
    "\n",
    "import numpy as np \n",
    "import pandas as pd \n",
    "import sqlite3 as sql\n",
    "from sqlite3 import Error\n",
    "import requests\n",
    "import matplotlib.pyplot as plt"
   ]
  },
  {
   "cell_type": "markdown",
   "metadata": {},
   "source": [
    "Join the data from Part 1 with the data from Part 2 to create a new dataframe."
   ]
  },
  {
   "cell_type": "code",
   "execution_count": 4,
   "metadata": {},
   "outputs": [],
   "source": [
    "city_bikes = pd.read_csv('/Users/Oswal/Documents/GitHub/Project-Week-3/notebooks/Toulouse_Data.csv')\n",
    "yelp_venues = pd.read_csv('/Users/Oswal/Documents/GitHub/Project-Week-3/notebooks/yelp_venue.csv')\n",
    "foursquare_venues = pd.read_csv('/Users/Oswal/Documents/GitHub/Project-Week-3/notebooks/foursquare_venue.csv')"
   ]
  },
  {
   "cell_type": "code",
   "execution_count": 5,
   "metadata": {},
   "outputs": [
    {
     "data": {
      "text/html": [
       "<div>\n",
       "<style scoped>\n",
       "    .dataframe tbody tr th:only-of-type {\n",
       "        vertical-align: middle;\n",
       "    }\n",
       "\n",
       "    .dataframe tbody tr th {\n",
       "        vertical-align: top;\n",
       "    }\n",
       "\n",
       "    .dataframe thead th {\n",
       "        text-align: right;\n",
       "    }\n",
       "</style>\n",
       "<table border=\"1\" class=\"dataframe\">\n",
       "  <thead>\n",
       "    <tr style=\"text-align: right;\">\n",
       "      <th></th>\n",
       "      <th>Station Name</th>\n",
       "      <th>Address</th>\n",
       "      <th>empty_slots</th>\n",
       "      <th>free_bikes</th>\n",
       "      <th>latitude</th>\n",
       "      <th>longitude</th>\n",
       "      <th>timestamp</th>\n",
       "      <th>Unique ID</th>\n",
       "    </tr>\n",
       "  </thead>\n",
       "  <tbody>\n",
       "    <tr>\n",
       "      <th>0</th>\n",
       "      <td>00197 - CASERNE PERIGNON</td>\n",
       "      <td>6 AV LOUIS BLERIOT</td>\n",
       "      <td>19</td>\n",
       "      <td>1</td>\n",
       "      <td>43.600386</td>\n",
       "      <td>1.464094</td>\n",
       "      <td>2022-12-05T00:29:57.070000Z</td>\n",
       "      <td>197</td>\n",
       "    </tr>\n",
       "    <tr>\n",
       "      <th>1</th>\n",
       "      <td>00213 - PUJOL - CHAUBET</td>\n",
       "      <td>129 AV DE CASTRES</td>\n",
       "      <td>16</td>\n",
       "      <td>1</td>\n",
       "      <td>43.600755</td>\n",
       "      <td>1.467514</td>\n",
       "      <td>2022-12-05T00:29:57.109000Z</td>\n",
       "      <td>213</td>\n",
       "    </tr>\n",
       "    <tr>\n",
       "      <th>2</th>\n",
       "      <td>00055 - SAINT-SERNIN - G. ARNOULT</td>\n",
       "      <td>2 RUE GATIEN ARNOULT</td>\n",
       "      <td>4</td>\n",
       "      <td>11</td>\n",
       "      <td>43.608952</td>\n",
       "      <td>1.441004</td>\n",
       "      <td>2022-12-05T00:29:56.992000Z</td>\n",
       "      <td>55</td>\n",
       "    </tr>\n",
       "    <tr>\n",
       "      <th>3</th>\n",
       "      <td>00195 - LARROUSSE - RIEUX</td>\n",
       "      <td>FACE 15 RUE PIERRE LAROUSSE</td>\n",
       "      <td>13</td>\n",
       "      <td>5</td>\n",
       "      <td>43.597235</td>\n",
       "      <td>1.459071</td>\n",
       "      <td>2022-12-05T00:29:56.994000Z</td>\n",
       "      <td>195</td>\n",
       "    </tr>\n",
       "    <tr>\n",
       "      <th>4</th>\n",
       "      <td>00280 - CHARBONNIERE</td>\n",
       "      <td>RUE DE LA CHARBONNIERE ENTRE IMP AMPERE ET RUE...</td>\n",
       "      <td>8</td>\n",
       "      <td>10</td>\n",
       "      <td>43.573830</td>\n",
       "      <td>1.448710</td>\n",
       "      <td>2022-12-05T00:29:56.996000Z</td>\n",
       "      <td>280</td>\n",
       "    </tr>\n",
       "  </tbody>\n",
       "</table>\n",
       "</div>"
      ],
      "text/plain": [
       "                        Station Name  \\\n",
       "0           00197 - CASERNE PERIGNON   \n",
       "1            00213 - PUJOL - CHAUBET   \n",
       "2  00055 - SAINT-SERNIN - G. ARNOULT   \n",
       "3          00195 - LARROUSSE - RIEUX   \n",
       "4               00280 - CHARBONNIERE   \n",
       "\n",
       "                                             Address  empty_slots  free_bikes  \\\n",
       "0                                 6 AV LOUIS BLERIOT           19           1   \n",
       "1                                  129 AV DE CASTRES           16           1   \n",
       "2                               2 RUE GATIEN ARNOULT            4          11   \n",
       "3                        FACE 15 RUE PIERRE LAROUSSE           13           5   \n",
       "4  RUE DE LA CHARBONNIERE ENTRE IMP AMPERE ET RUE...            8          10   \n",
       "\n",
       "    latitude  longitude                    timestamp  Unique ID  \n",
       "0  43.600386   1.464094  2022-12-05T00:29:57.070000Z        197  \n",
       "1  43.600755   1.467514  2022-12-05T00:29:57.109000Z        213  \n",
       "2  43.608952   1.441004  2022-12-05T00:29:56.992000Z         55  \n",
       "3  43.597235   1.459071  2022-12-05T00:29:56.994000Z        195  \n",
       "4  43.573830   1.448710  2022-12-05T00:29:56.996000Z        280  "
      ]
     },
     "execution_count": 5,
     "metadata": {},
     "output_type": "execute_result"
    }
   ],
   "source": [
    "city_bikes.head()"
   ]
  },
  {
   "cell_type": "code",
   "execution_count": 6,
   "metadata": {},
   "outputs": [
    {
     "data": {
      "text/html": [
       "<div>\n",
       "<style scoped>\n",
       "    .dataframe tbody tr th:only-of-type {\n",
       "        vertical-align: middle;\n",
       "    }\n",
       "\n",
       "    .dataframe tbody tr th {\n",
       "        vertical-align: top;\n",
       "    }\n",
       "\n",
       "    .dataframe thead th {\n",
       "        text-align: right;\n",
       "    }\n",
       "</style>\n",
       "<table border=\"1\" class=\"dataframe\">\n",
       "  <thead>\n",
       "    <tr style=\"text-align: right;\">\n",
       "      <th></th>\n",
       "      <th>name</th>\n",
       "      <th>country</th>\n",
       "      <th>city</th>\n",
       "      <th>categories</th>\n",
       "      <th>review_count</th>\n",
       "      <th>rating</th>\n",
       "      <th>near_station</th>\n",
       "    </tr>\n",
       "  </thead>\n",
       "  <tbody>\n",
       "    <tr>\n",
       "      <th>0</th>\n",
       "      <td>De Danú</td>\n",
       "      <td>FR</td>\n",
       "      <td>Toulouse</td>\n",
       "      <td>[{'alias': 'irish_pubs', 'title': 'Irish Pub'}]</td>\n",
       "      <td>84</td>\n",
       "      <td>4.0</td>\n",
       "      <td>00197 - CASERNE PERIGNON</td>\n",
       "    </tr>\n",
       "    <tr>\n",
       "      <th>1</th>\n",
       "      <td>La Dynamo</td>\n",
       "      <td>FR</td>\n",
       "      <td>Toulouse</td>\n",
       "      <td>[{'alias': 'danceclubs', 'title': 'Dance Clubs...</td>\n",
       "      <td>31</td>\n",
       "      <td>4.5</td>\n",
       "      <td>00197 - CASERNE PERIGNON</td>\n",
       "    </tr>\n",
       "    <tr>\n",
       "      <th>2</th>\n",
       "      <td>Au Poêle de la Bête</td>\n",
       "      <td>FR</td>\n",
       "      <td>Toulouse</td>\n",
       "      <td>[{'alias': 'tapas', 'title': 'Tapas Bars'}, {'...</td>\n",
       "      <td>18</td>\n",
       "      <td>4.5</td>\n",
       "      <td>00197 - CASERNE PERIGNON</td>\n",
       "    </tr>\n",
       "    <tr>\n",
       "      <th>3</th>\n",
       "      <td>L'Heure du Singe</td>\n",
       "      <td>FR</td>\n",
       "      <td>Toulouse</td>\n",
       "      <td>[{'alias': 'cocktailbars', 'title': 'Cocktail ...</td>\n",
       "      <td>17</td>\n",
       "      <td>4.5</td>\n",
       "      <td>00197 - CASERNE PERIGNON</td>\n",
       "    </tr>\n",
       "    <tr>\n",
       "      <th>4</th>\n",
       "      <td>Puerto Habana</td>\n",
       "      <td>FR</td>\n",
       "      <td>Toulouse</td>\n",
       "      <td>[{'alias': 'tapasmallplates', 'title': 'Tapas/...</td>\n",
       "      <td>33</td>\n",
       "      <td>3.5</td>\n",
       "      <td>00197 - CASERNE PERIGNON</td>\n",
       "    </tr>\n",
       "  </tbody>\n",
       "</table>\n",
       "</div>"
      ],
      "text/plain": [
       "                  name country      city  \\\n",
       "0              De Danú      FR  Toulouse   \n",
       "1            La Dynamo      FR  Toulouse   \n",
       "2  Au Poêle de la Bête      FR  Toulouse   \n",
       "3     L'Heure du Singe      FR  Toulouse   \n",
       "4        Puerto Habana      FR  Toulouse   \n",
       "\n",
       "                                          categories  review_count  rating  \\\n",
       "0    [{'alias': 'irish_pubs', 'title': 'Irish Pub'}]            84     4.0   \n",
       "1  [{'alias': 'danceclubs', 'title': 'Dance Clubs...            31     4.5   \n",
       "2  [{'alias': 'tapas', 'title': 'Tapas Bars'}, {'...            18     4.5   \n",
       "3  [{'alias': 'cocktailbars', 'title': 'Cocktail ...            17     4.5   \n",
       "4  [{'alias': 'tapasmallplates', 'title': 'Tapas/...            33     3.5   \n",
       "\n",
       "               near_station  \n",
       "0  00197 - CASERNE PERIGNON  \n",
       "1  00197 - CASERNE PERIGNON  \n",
       "2  00197 - CASERNE PERIGNON  \n",
       "3  00197 - CASERNE PERIGNON  \n",
       "4  00197 - CASERNE PERIGNON  "
      ]
     },
     "execution_count": 6,
     "metadata": {},
     "output_type": "execute_result"
    }
   ],
   "source": [
    "yelp_venues.head()"
   ]
  },
  {
   "cell_type": "code",
   "execution_count": 7,
   "metadata": {},
   "outputs": [
    {
     "data": {
      "text/html": [
       "<div>\n",
       "<style scoped>\n",
       "    .dataframe tbody tr th:only-of-type {\n",
       "        vertical-align: middle;\n",
       "    }\n",
       "\n",
       "    .dataframe tbody tr th {\n",
       "        vertical-align: top;\n",
       "    }\n",
       "\n",
       "    .dataframe thead th {\n",
       "        text-align: right;\n",
       "    }\n",
       "</style>\n",
       "<table border=\"1\" class=\"dataframe\">\n",
       "  <thead>\n",
       "    <tr style=\"text-align: right;\">\n",
       "      <th></th>\n",
       "      <th>name</th>\n",
       "      <th>country</th>\n",
       "      <th>categories</th>\n",
       "      <th>near_station</th>\n",
       "    </tr>\n",
       "  </thead>\n",
       "  <tbody>\n",
       "    <tr>\n",
       "      <th>0</th>\n",
       "      <td>De Danu</td>\n",
       "      <td>FR</td>\n",
       "      <td>[{'id': 13006, 'name': 'Beer Bar', 'icon': {'p...</td>\n",
       "      <td>00197 - CASERNE PERIGNON</td>\n",
       "    </tr>\n",
       "    <tr>\n",
       "      <th>1</th>\n",
       "      <td>De Danu</td>\n",
       "      <td>FR</td>\n",
       "      <td>[{'id': 13006, 'name': 'Beer Bar', 'icon': {'p...</td>\n",
       "      <td>00213 - PUJOL - CHAUBET</td>\n",
       "    </tr>\n",
       "    <tr>\n",
       "      <th>2</th>\n",
       "      <td>Les Délices de Saturnin</td>\n",
       "      <td>FR</td>\n",
       "      <td>[{'id': 13035, 'name': 'Coffee Shop', 'icon': ...</td>\n",
       "      <td>00055 - SAINT-SERNIN - G. ARNOULT</td>\n",
       "    </tr>\n",
       "    <tr>\n",
       "      <th>3</th>\n",
       "      <td>De Danu</td>\n",
       "      <td>FR</td>\n",
       "      <td>[{'id': 13006, 'name': 'Beer Bar', 'icon': {'p...</td>\n",
       "      <td>00195 - LARROUSSE - RIEUX</td>\n",
       "    </tr>\n",
       "    <tr>\n",
       "      <th>4</th>\n",
       "      <td>Le Samourai</td>\n",
       "      <td>FR</td>\n",
       "      <td>[{'id': 13003, 'name': 'Bar', 'icon': {'prefix...</td>\n",
       "      <td>00280 - CHARBONNIERE</td>\n",
       "    </tr>\n",
       "  </tbody>\n",
       "</table>\n",
       "</div>"
      ],
      "text/plain": [
       "                      name country  \\\n",
       "0                  De Danu      FR   \n",
       "1                  De Danu      FR   \n",
       "2  Les Délices de Saturnin      FR   \n",
       "3                  De Danu      FR   \n",
       "4              Le Samourai      FR   \n",
       "\n",
       "                                          categories  \\\n",
       "0  [{'id': 13006, 'name': 'Beer Bar', 'icon': {'p...   \n",
       "1  [{'id': 13006, 'name': 'Beer Bar', 'icon': {'p...   \n",
       "2  [{'id': 13035, 'name': 'Coffee Shop', 'icon': ...   \n",
       "3  [{'id': 13006, 'name': 'Beer Bar', 'icon': {'p...   \n",
       "4  [{'id': 13003, 'name': 'Bar', 'icon': {'prefix...   \n",
       "\n",
       "                        near_station  \n",
       "0           00197 - CASERNE PERIGNON  \n",
       "1            00213 - PUJOL - CHAUBET  \n",
       "2  00055 - SAINT-SERNIN - G. ARNOULT  \n",
       "3          00195 - LARROUSSE - RIEUX  \n",
       "4               00280 - CHARBONNIERE  "
      ]
     },
     "execution_count": 7,
     "metadata": {},
     "output_type": "execute_result"
    }
   ],
   "source": [
    "foursquare_venues.head()"
   ]
  },
  {
   "cell_type": "code",
   "execution_count": 8,
   "metadata": {},
   "outputs": [],
   "source": [
    "city_yelp_data = yelp_venues.join(city_bikes.set_index('Station Name'), on = 'near_station')"
   ]
  },
  {
   "cell_type": "code",
   "execution_count": 9,
   "metadata": {},
   "outputs": [
    {
     "data": {
      "text/html": [
       "<div>\n",
       "<style scoped>\n",
       "    .dataframe tbody tr th:only-of-type {\n",
       "        vertical-align: middle;\n",
       "    }\n",
       "\n",
       "    .dataframe tbody tr th {\n",
       "        vertical-align: top;\n",
       "    }\n",
       "\n",
       "    .dataframe thead th {\n",
       "        text-align: right;\n",
       "    }\n",
       "</style>\n",
       "<table border=\"1\" class=\"dataframe\">\n",
       "  <thead>\n",
       "    <tr style=\"text-align: right;\">\n",
       "      <th></th>\n",
       "      <th>name</th>\n",
       "      <th>country</th>\n",
       "      <th>city</th>\n",
       "      <th>categories</th>\n",
       "      <th>review_count</th>\n",
       "      <th>rating</th>\n",
       "      <th>near_station</th>\n",
       "      <th>Address</th>\n",
       "      <th>empty_slots</th>\n",
       "      <th>free_bikes</th>\n",
       "      <th>latitude</th>\n",
       "      <th>longitude</th>\n",
       "      <th>timestamp</th>\n",
       "      <th>Unique ID</th>\n",
       "    </tr>\n",
       "  </thead>\n",
       "  <tbody>\n",
       "    <tr>\n",
       "      <th>0</th>\n",
       "      <td>De Danú</td>\n",
       "      <td>FR</td>\n",
       "      <td>Toulouse</td>\n",
       "      <td>[{'alias': 'irish_pubs', 'title': 'Irish Pub'}]</td>\n",
       "      <td>84</td>\n",
       "      <td>4.0</td>\n",
       "      <td>00197 - CASERNE PERIGNON</td>\n",
       "      <td>6 AV LOUIS BLERIOT</td>\n",
       "      <td>19</td>\n",
       "      <td>1</td>\n",
       "      <td>43.600386</td>\n",
       "      <td>1.464094</td>\n",
       "      <td>2022-12-05T00:29:57.070000Z</td>\n",
       "      <td>197</td>\n",
       "    </tr>\n",
       "    <tr>\n",
       "      <th>1</th>\n",
       "      <td>La Dynamo</td>\n",
       "      <td>FR</td>\n",
       "      <td>Toulouse</td>\n",
       "      <td>[{'alias': 'danceclubs', 'title': 'Dance Clubs...</td>\n",
       "      <td>31</td>\n",
       "      <td>4.5</td>\n",
       "      <td>00197 - CASERNE PERIGNON</td>\n",
       "      <td>6 AV LOUIS BLERIOT</td>\n",
       "      <td>19</td>\n",
       "      <td>1</td>\n",
       "      <td>43.600386</td>\n",
       "      <td>1.464094</td>\n",
       "      <td>2022-12-05T00:29:57.070000Z</td>\n",
       "      <td>197</td>\n",
       "    </tr>\n",
       "    <tr>\n",
       "      <th>2</th>\n",
       "      <td>Au Poêle de la Bête</td>\n",
       "      <td>FR</td>\n",
       "      <td>Toulouse</td>\n",
       "      <td>[{'alias': 'tapas', 'title': 'Tapas Bars'}, {'...</td>\n",
       "      <td>18</td>\n",
       "      <td>4.5</td>\n",
       "      <td>00197 - CASERNE PERIGNON</td>\n",
       "      <td>6 AV LOUIS BLERIOT</td>\n",
       "      <td>19</td>\n",
       "      <td>1</td>\n",
       "      <td>43.600386</td>\n",
       "      <td>1.464094</td>\n",
       "      <td>2022-12-05T00:29:57.070000Z</td>\n",
       "      <td>197</td>\n",
       "    </tr>\n",
       "    <tr>\n",
       "      <th>3</th>\n",
       "      <td>L'Heure du Singe</td>\n",
       "      <td>FR</td>\n",
       "      <td>Toulouse</td>\n",
       "      <td>[{'alias': 'cocktailbars', 'title': 'Cocktail ...</td>\n",
       "      <td>17</td>\n",
       "      <td>4.5</td>\n",
       "      <td>00197 - CASERNE PERIGNON</td>\n",
       "      <td>6 AV LOUIS BLERIOT</td>\n",
       "      <td>19</td>\n",
       "      <td>1</td>\n",
       "      <td>43.600386</td>\n",
       "      <td>1.464094</td>\n",
       "      <td>2022-12-05T00:29:57.070000Z</td>\n",
       "      <td>197</td>\n",
       "    </tr>\n",
       "    <tr>\n",
       "      <th>4</th>\n",
       "      <td>Puerto Habana</td>\n",
       "      <td>FR</td>\n",
       "      <td>Toulouse</td>\n",
       "      <td>[{'alias': 'tapasmallplates', 'title': 'Tapas/...</td>\n",
       "      <td>33</td>\n",
       "      <td>3.5</td>\n",
       "      <td>00197 - CASERNE PERIGNON</td>\n",
       "      <td>6 AV LOUIS BLERIOT</td>\n",
       "      <td>19</td>\n",
       "      <td>1</td>\n",
       "      <td>43.600386</td>\n",
       "      <td>1.464094</td>\n",
       "      <td>2022-12-05T00:29:57.070000Z</td>\n",
       "      <td>197</td>\n",
       "    </tr>\n",
       "    <tr>\n",
       "      <th>...</th>\n",
       "      <td>...</td>\n",
       "      <td>...</td>\n",
       "      <td>...</td>\n",
       "      <td>...</td>\n",
       "      <td>...</td>\n",
       "      <td>...</td>\n",
       "      <td>...</td>\n",
       "      <td>...</td>\n",
       "      <td>...</td>\n",
       "      <td>...</td>\n",
       "      <td>...</td>\n",
       "      <td>...</td>\n",
       "      <td>...</td>\n",
       "      <td>...</td>\n",
       "    </tr>\n",
       "    <tr>\n",
       "      <th>95</th>\n",
       "      <td>Le Seize</td>\n",
       "      <td>FR</td>\n",
       "      <td>Toulouse</td>\n",
       "      <td>[{'alias': 'brasseries', 'title': 'Brasseries'...</td>\n",
       "      <td>3</td>\n",
       "      <td>3.0</td>\n",
       "      <td>00242 -  RAIMBAUD - COLETTE</td>\n",
       "      <td>RUE RAIMBAUD ANGLE RUE COLETTE</td>\n",
       "      <td>4</td>\n",
       "      <td>12</td>\n",
       "      <td>43.633866</td>\n",
       "      <td>1.437494</td>\n",
       "      <td>2022-12-05T00:29:56.997000Z</td>\n",
       "      <td>242</td>\n",
       "    </tr>\n",
       "    <tr>\n",
       "      <th>96</th>\n",
       "      <td>Le Seizième</td>\n",
       "      <td>FR</td>\n",
       "      <td>Toulouse</td>\n",
       "      <td>[{'alias': 'bars', 'title': 'Bars'}]</td>\n",
       "      <td>1</td>\n",
       "      <td>4.0</td>\n",
       "      <td>00242 -  RAIMBAUD - COLETTE</td>\n",
       "      <td>RUE RAIMBAUD ANGLE RUE COLETTE</td>\n",
       "      <td>4</td>\n",
       "      <td>12</td>\n",
       "      <td>43.633866</td>\n",
       "      <td>1.437494</td>\n",
       "      <td>2022-12-05T00:29:56.997000Z</td>\n",
       "      <td>242</td>\n",
       "    </tr>\n",
       "    <tr>\n",
       "      <th>97</th>\n",
       "      <td>Karting Café</td>\n",
       "      <td>FR</td>\n",
       "      <td>Toulouse</td>\n",
       "      <td>[{'alias': 'cafes', 'title': 'Cafes'}]</td>\n",
       "      <td>2</td>\n",
       "      <td>3.0</td>\n",
       "      <td>00242 -  RAIMBAUD - COLETTE</td>\n",
       "      <td>RUE RAIMBAUD ANGLE RUE COLETTE</td>\n",
       "      <td>4</td>\n",
       "      <td>12</td>\n",
       "      <td>43.633866</td>\n",
       "      <td>1.437494</td>\n",
       "      <td>2022-12-05T00:29:56.997000Z</td>\n",
       "      <td>242</td>\n",
       "    </tr>\n",
       "    <tr>\n",
       "      <th>98</th>\n",
       "      <td>Les Oliviers</td>\n",
       "      <td>FR</td>\n",
       "      <td>Toulouse</td>\n",
       "      <td>[{'alias': 'cafes', 'title': 'Cafes'}, {'alias...</td>\n",
       "      <td>1</td>\n",
       "      <td>5.0</td>\n",
       "      <td>00224 - CAMPUS SUPAERO</td>\n",
       "      <td>10 AV EDOUARD BELIN FACE CHATEAU D'EAU CREPS R...</td>\n",
       "      <td>15</td>\n",
       "      <td>5</td>\n",
       "      <td>43.566596</td>\n",
       "      <td>1.474882</td>\n",
       "      <td>2022-12-05T00:29:56.998000Z</td>\n",
       "      <td>224</td>\n",
       "    </tr>\n",
       "    <tr>\n",
       "      <th>99</th>\n",
       "      <td>UrbanSoccer</td>\n",
       "      <td>FR</td>\n",
       "      <td>Toulouse</td>\n",
       "      <td>[{'alias': 'football', 'title': 'Soccer'}]</td>\n",
       "      <td>1</td>\n",
       "      <td>4.0</td>\n",
       "      <td>00224 - CAMPUS SUPAERO</td>\n",
       "      <td>10 AV EDOUARD BELIN FACE CHATEAU D'EAU CREPS R...</td>\n",
       "      <td>15</td>\n",
       "      <td>5</td>\n",
       "      <td>43.566596</td>\n",
       "      <td>1.474882</td>\n",
       "      <td>2022-12-05T00:29:56.998000Z</td>\n",
       "      <td>224</td>\n",
       "    </tr>\n",
       "  </tbody>\n",
       "</table>\n",
       "<p>100 rows × 14 columns</p>\n",
       "</div>"
      ],
      "text/plain": [
       "                   name country      city  \\\n",
       "0               De Danú      FR  Toulouse   \n",
       "1             La Dynamo      FR  Toulouse   \n",
       "2   Au Poêle de la Bête      FR  Toulouse   \n",
       "3      L'Heure du Singe      FR  Toulouse   \n",
       "4         Puerto Habana      FR  Toulouse   \n",
       "..                  ...     ...       ...   \n",
       "95             Le Seize      FR  Toulouse   \n",
       "96          Le Seizième      FR  Toulouse   \n",
       "97         Karting Café      FR  Toulouse   \n",
       "98         Les Oliviers      FR  Toulouse   \n",
       "99          UrbanSoccer      FR  Toulouse   \n",
       "\n",
       "                                           categories  review_count  rating  \\\n",
       "0     [{'alias': 'irish_pubs', 'title': 'Irish Pub'}]            84     4.0   \n",
       "1   [{'alias': 'danceclubs', 'title': 'Dance Clubs...            31     4.5   \n",
       "2   [{'alias': 'tapas', 'title': 'Tapas Bars'}, {'...            18     4.5   \n",
       "3   [{'alias': 'cocktailbars', 'title': 'Cocktail ...            17     4.5   \n",
       "4   [{'alias': 'tapasmallplates', 'title': 'Tapas/...            33     3.5   \n",
       "..                                                ...           ...     ...   \n",
       "95  [{'alias': 'brasseries', 'title': 'Brasseries'...             3     3.0   \n",
       "96               [{'alias': 'bars', 'title': 'Bars'}]             1     4.0   \n",
       "97             [{'alias': 'cafes', 'title': 'Cafes'}]             2     3.0   \n",
       "98  [{'alias': 'cafes', 'title': 'Cafes'}, {'alias...             1     5.0   \n",
       "99         [{'alias': 'football', 'title': 'Soccer'}]             1     4.0   \n",
       "\n",
       "                   near_station  \\\n",
       "0      00197 - CASERNE PERIGNON   \n",
       "1      00197 - CASERNE PERIGNON   \n",
       "2      00197 - CASERNE PERIGNON   \n",
       "3      00197 - CASERNE PERIGNON   \n",
       "4      00197 - CASERNE PERIGNON   \n",
       "..                          ...   \n",
       "95  00242 -  RAIMBAUD - COLETTE   \n",
       "96  00242 -  RAIMBAUD - COLETTE   \n",
       "97  00242 -  RAIMBAUD - COLETTE   \n",
       "98       00224 - CAMPUS SUPAERO   \n",
       "99       00224 - CAMPUS SUPAERO   \n",
       "\n",
       "                                              Address  empty_slots  \\\n",
       "0                                  6 AV LOUIS BLERIOT           19   \n",
       "1                                  6 AV LOUIS BLERIOT           19   \n",
       "2                                  6 AV LOUIS BLERIOT           19   \n",
       "3                                  6 AV LOUIS BLERIOT           19   \n",
       "4                                  6 AV LOUIS BLERIOT           19   \n",
       "..                                                ...          ...   \n",
       "95                     RUE RAIMBAUD ANGLE RUE COLETTE            4   \n",
       "96                     RUE RAIMBAUD ANGLE RUE COLETTE            4   \n",
       "97                     RUE RAIMBAUD ANGLE RUE COLETTE            4   \n",
       "98  10 AV EDOUARD BELIN FACE CHATEAU D'EAU CREPS R...           15   \n",
       "99  10 AV EDOUARD BELIN FACE CHATEAU D'EAU CREPS R...           15   \n",
       "\n",
       "    free_bikes   latitude  longitude                    timestamp  Unique ID  \n",
       "0            1  43.600386   1.464094  2022-12-05T00:29:57.070000Z        197  \n",
       "1            1  43.600386   1.464094  2022-12-05T00:29:57.070000Z        197  \n",
       "2            1  43.600386   1.464094  2022-12-05T00:29:57.070000Z        197  \n",
       "3            1  43.600386   1.464094  2022-12-05T00:29:57.070000Z        197  \n",
       "4            1  43.600386   1.464094  2022-12-05T00:29:57.070000Z        197  \n",
       "..         ...        ...        ...                          ...        ...  \n",
       "95          12  43.633866   1.437494  2022-12-05T00:29:56.997000Z        242  \n",
       "96          12  43.633866   1.437494  2022-12-05T00:29:56.997000Z        242  \n",
       "97          12  43.633866   1.437494  2022-12-05T00:29:56.997000Z        242  \n",
       "98           5  43.566596   1.474882  2022-12-05T00:29:56.998000Z        224  \n",
       "99           5  43.566596   1.474882  2022-12-05T00:29:56.998000Z        224  \n",
       "\n",
       "[100 rows x 14 columns]"
      ]
     },
     "execution_count": 9,
     "metadata": {},
     "output_type": "execute_result"
    }
   ],
   "source": [
    "city_yelp_data"
   ]
  },
  {
   "cell_type": "code",
   "execution_count": 10,
   "metadata": {},
   "outputs": [],
   "source": [
    "city_foursquare_data = foursquare_venues.join(city_bikes.set_index('Station Name'), on = 'near_station')"
   ]
  },
  {
   "cell_type": "code",
   "execution_count": 11,
   "metadata": {},
   "outputs": [
    {
     "data": {
      "text/html": [
       "<div>\n",
       "<style scoped>\n",
       "    .dataframe tbody tr th:only-of-type {\n",
       "        vertical-align: middle;\n",
       "    }\n",
       "\n",
       "    .dataframe tbody tr th {\n",
       "        vertical-align: top;\n",
       "    }\n",
       "\n",
       "    .dataframe thead th {\n",
       "        text-align: right;\n",
       "    }\n",
       "</style>\n",
       "<table border=\"1\" class=\"dataframe\">\n",
       "  <thead>\n",
       "    <tr style=\"text-align: right;\">\n",
       "      <th></th>\n",
       "      <th>name</th>\n",
       "      <th>country</th>\n",
       "      <th>categories</th>\n",
       "      <th>near_station</th>\n",
       "      <th>Address</th>\n",
       "      <th>empty_slots</th>\n",
       "      <th>free_bikes</th>\n",
       "      <th>latitude</th>\n",
       "      <th>longitude</th>\n",
       "      <th>timestamp</th>\n",
       "      <th>Unique ID</th>\n",
       "    </tr>\n",
       "  </thead>\n",
       "  <tbody>\n",
       "    <tr>\n",
       "      <th>0</th>\n",
       "      <td>De Danu</td>\n",
       "      <td>FR</td>\n",
       "      <td>[{'id': 13006, 'name': 'Beer Bar', 'icon': {'p...</td>\n",
       "      <td>00197 - CASERNE PERIGNON</td>\n",
       "      <td>6 AV LOUIS BLERIOT</td>\n",
       "      <td>19</td>\n",
       "      <td>1</td>\n",
       "      <td>43.600386</td>\n",
       "      <td>1.464094</td>\n",
       "      <td>2022-12-05T00:29:57.070000Z</td>\n",
       "      <td>197</td>\n",
       "    </tr>\n",
       "    <tr>\n",
       "      <th>1</th>\n",
       "      <td>De Danu</td>\n",
       "      <td>FR</td>\n",
       "      <td>[{'id': 13006, 'name': 'Beer Bar', 'icon': {'p...</td>\n",
       "      <td>00213 - PUJOL - CHAUBET</td>\n",
       "      <td>129 AV DE CASTRES</td>\n",
       "      <td>16</td>\n",
       "      <td>1</td>\n",
       "      <td>43.600755</td>\n",
       "      <td>1.467514</td>\n",
       "      <td>2022-12-05T00:29:57.109000Z</td>\n",
       "      <td>213</td>\n",
       "    </tr>\n",
       "    <tr>\n",
       "      <th>2</th>\n",
       "      <td>Les Délices de Saturnin</td>\n",
       "      <td>FR</td>\n",
       "      <td>[{'id': 13035, 'name': 'Coffee Shop', 'icon': ...</td>\n",
       "      <td>00055 - SAINT-SERNIN - G. ARNOULT</td>\n",
       "      <td>2 RUE GATIEN ARNOULT</td>\n",
       "      <td>4</td>\n",
       "      <td>11</td>\n",
       "      <td>43.608952</td>\n",
       "      <td>1.441004</td>\n",
       "      <td>2022-12-05T00:29:56.992000Z</td>\n",
       "      <td>55</td>\n",
       "    </tr>\n",
       "    <tr>\n",
       "      <th>3</th>\n",
       "      <td>De Danu</td>\n",
       "      <td>FR</td>\n",
       "      <td>[{'id': 13006, 'name': 'Beer Bar', 'icon': {'p...</td>\n",
       "      <td>00195 - LARROUSSE - RIEUX</td>\n",
       "      <td>FACE 15 RUE PIERRE LAROUSSE</td>\n",
       "      <td>13</td>\n",
       "      <td>5</td>\n",
       "      <td>43.597235</td>\n",
       "      <td>1.459071</td>\n",
       "      <td>2022-12-05T00:29:56.994000Z</td>\n",
       "      <td>195</td>\n",
       "    </tr>\n",
       "    <tr>\n",
       "      <th>4</th>\n",
       "      <td>Le Samourai</td>\n",
       "      <td>FR</td>\n",
       "      <td>[{'id': 13003, 'name': 'Bar', 'icon': {'prefix...</td>\n",
       "      <td>00280 - CHARBONNIERE</td>\n",
       "      <td>RUE DE LA CHARBONNIERE ENTRE IMP AMPERE ET RUE...</td>\n",
       "      <td>8</td>\n",
       "      <td>10</td>\n",
       "      <td>43.573830</td>\n",
       "      <td>1.448710</td>\n",
       "      <td>2022-12-05T00:29:56.996000Z</td>\n",
       "      <td>280</td>\n",
       "    </tr>\n",
       "    <tr>\n",
       "      <th>...</th>\n",
       "      <td>...</td>\n",
       "      <td>...</td>\n",
       "      <td>...</td>\n",
       "      <td>...</td>\n",
       "      <td>...</td>\n",
       "      <td>...</td>\n",
       "      <td>...</td>\n",
       "      <td>...</td>\n",
       "      <td>...</td>\n",
       "      <td>...</td>\n",
       "      <td>...</td>\n",
       "    </tr>\n",
       "    <tr>\n",
       "      <th>1705</th>\n",
       "      <td>Stade de Rangueil</td>\n",
       "      <td>FR</td>\n",
       "      <td>[{'id': 18064, 'name': 'Soccer Field', 'icon':...</td>\n",
       "      <td>00239 - LESPINET - HERBETTES</td>\n",
       "      <td>ANGLE AVENUE DE LESPINET ET RUE GEORGES BIDAULT</td>\n",
       "      <td>9</td>\n",
       "      <td>15</td>\n",
       "      <td>43.576571</td>\n",
       "      <td>1.470398</td>\n",
       "      <td>2022-12-05T00:29:57.025000Z</td>\n",
       "      <td>239</td>\n",
       "    </tr>\n",
       "    <tr>\n",
       "      <th>1706</th>\n",
       "      <td>Restaurant les Brochettes</td>\n",
       "      <td>FR</td>\n",
       "      <td>[{'id': 13003, 'name': 'Bar', 'icon': {'prefix...</td>\n",
       "      <td>00193 - LOMBEZ - PETITE VITESSE</td>\n",
       "      <td>59 AV DE LOMBEZ</td>\n",
       "      <td>6</td>\n",
       "      <td>13</td>\n",
       "      <td>43.594849</td>\n",
       "      <td>1.415377</td>\n",
       "      <td>2022-12-05T00:29:57.132000Z</td>\n",
       "      <td>193</td>\n",
       "    </tr>\n",
       "    <tr>\n",
       "      <th>1707</th>\n",
       "      <td>Fat Cat</td>\n",
       "      <td>FR</td>\n",
       "      <td>[{'id': 13009, 'name': 'Cocktail Bar', 'icon':...</td>\n",
       "      <td>00007 - PLACE VICTOR HUGO</td>\n",
       "      <td>6 RUE DU REMPART VILLENEUVE</td>\n",
       "      <td>7</td>\n",
       "      <td>17</td>\n",
       "      <td>43.605852</td>\n",
       "      <td>1.446594</td>\n",
       "      <td>2022-12-05T00:29:57.027000Z</td>\n",
       "      <td>7</td>\n",
       "    </tr>\n",
       "    <tr>\n",
       "      <th>1708</th>\n",
       "      <td>L'Heure du Singe</td>\n",
       "      <td>FR</td>\n",
       "      <td>[{'id': 13009, 'name': 'Cocktail Bar', 'icon':...</td>\n",
       "      <td>00040 - COLOMBETTE</td>\n",
       "      <td>41 RUE DE LA COLOMBETTE</td>\n",
       "      <td>2</td>\n",
       "      <td>13</td>\n",
       "      <td>43.604660</td>\n",
       "      <td>1.453589</td>\n",
       "      <td>2022-12-05T00:29:57.009000Z</td>\n",
       "      <td>40</td>\n",
       "    </tr>\n",
       "    <tr>\n",
       "      <th>1709</th>\n",
       "      <td>Chez Tonton</td>\n",
       "      <td>FR</td>\n",
       "      <td>[{'id': 13010, 'name': 'Dive Bar', 'icon': {'p...</td>\n",
       "      <td>00029 - VALADE</td>\n",
       "      <td>31 RUE VALADE</td>\n",
       "      <td>4</td>\n",
       "      <td>17</td>\n",
       "      <td>43.605072</td>\n",
       "      <td>1.437032</td>\n",
       "      <td>2022-12-05T00:29:56.995000Z</td>\n",
       "      <td>29</td>\n",
       "    </tr>\n",
       "  </tbody>\n",
       "</table>\n",
       "<p>1710 rows × 11 columns</p>\n",
       "</div>"
      ],
      "text/plain": [
       "                           name country  \\\n",
       "0                       De Danu      FR   \n",
       "1                       De Danu      FR   \n",
       "2       Les Délices de Saturnin      FR   \n",
       "3                       De Danu      FR   \n",
       "4                   Le Samourai      FR   \n",
       "...                         ...     ...   \n",
       "1705          Stade de Rangueil      FR   \n",
       "1706  Restaurant les Brochettes      FR   \n",
       "1707                    Fat Cat      FR   \n",
       "1708           L'Heure du Singe      FR   \n",
       "1709                Chez Tonton      FR   \n",
       "\n",
       "                                             categories  \\\n",
       "0     [{'id': 13006, 'name': 'Beer Bar', 'icon': {'p...   \n",
       "1     [{'id': 13006, 'name': 'Beer Bar', 'icon': {'p...   \n",
       "2     [{'id': 13035, 'name': 'Coffee Shop', 'icon': ...   \n",
       "3     [{'id': 13006, 'name': 'Beer Bar', 'icon': {'p...   \n",
       "4     [{'id': 13003, 'name': 'Bar', 'icon': {'prefix...   \n",
       "...                                                 ...   \n",
       "1705  [{'id': 18064, 'name': 'Soccer Field', 'icon':...   \n",
       "1706  [{'id': 13003, 'name': 'Bar', 'icon': {'prefix...   \n",
       "1707  [{'id': 13009, 'name': 'Cocktail Bar', 'icon':...   \n",
       "1708  [{'id': 13009, 'name': 'Cocktail Bar', 'icon':...   \n",
       "1709  [{'id': 13010, 'name': 'Dive Bar', 'icon': {'p...   \n",
       "\n",
       "                           near_station  \\\n",
       "0              00197 - CASERNE PERIGNON   \n",
       "1               00213 - PUJOL - CHAUBET   \n",
       "2     00055 - SAINT-SERNIN - G. ARNOULT   \n",
       "3             00195 - LARROUSSE - RIEUX   \n",
       "4                  00280 - CHARBONNIERE   \n",
       "...                                 ...   \n",
       "1705       00239 - LESPINET - HERBETTES   \n",
       "1706    00193 - LOMBEZ - PETITE VITESSE   \n",
       "1707          00007 - PLACE VICTOR HUGO   \n",
       "1708                 00040 - COLOMBETTE   \n",
       "1709                     00029 - VALADE   \n",
       "\n",
       "                                                Address  empty_slots  \\\n",
       "0                                    6 AV LOUIS BLERIOT           19   \n",
       "1                                     129 AV DE CASTRES           16   \n",
       "2                                  2 RUE GATIEN ARNOULT            4   \n",
       "3                           FACE 15 RUE PIERRE LAROUSSE           13   \n",
       "4     RUE DE LA CHARBONNIERE ENTRE IMP AMPERE ET RUE...            8   \n",
       "...                                                 ...          ...   \n",
       "1705    ANGLE AVENUE DE LESPINET ET RUE GEORGES BIDAULT            9   \n",
       "1706                                    59 AV DE LOMBEZ            6   \n",
       "1707                        6 RUE DU REMPART VILLENEUVE            7   \n",
       "1708                            41 RUE DE LA COLOMBETTE            2   \n",
       "1709                                      31 RUE VALADE            4   \n",
       "\n",
       "      free_bikes   latitude  longitude                    timestamp  Unique ID  \n",
       "0              1  43.600386   1.464094  2022-12-05T00:29:57.070000Z        197  \n",
       "1              1  43.600755   1.467514  2022-12-05T00:29:57.109000Z        213  \n",
       "2             11  43.608952   1.441004  2022-12-05T00:29:56.992000Z         55  \n",
       "3              5  43.597235   1.459071  2022-12-05T00:29:56.994000Z        195  \n",
       "4             10  43.573830   1.448710  2022-12-05T00:29:56.996000Z        280  \n",
       "...          ...        ...        ...                          ...        ...  \n",
       "1705          15  43.576571   1.470398  2022-12-05T00:29:57.025000Z        239  \n",
       "1706          13  43.594849   1.415377  2022-12-05T00:29:57.132000Z        193  \n",
       "1707          17  43.605852   1.446594  2022-12-05T00:29:57.027000Z          7  \n",
       "1708          13  43.604660   1.453589  2022-12-05T00:29:57.009000Z         40  \n",
       "1709          17  43.605072   1.437032  2022-12-05T00:29:56.995000Z         29  \n",
       "\n",
       "[1710 rows x 11 columns]"
      ]
     },
     "execution_count": 11,
     "metadata": {},
     "output_type": "execute_result"
    }
   ],
   "source": [
    "city_foursquare_data"
   ]
  },
  {
   "cell_type": "code",
   "execution_count": 16,
   "metadata": {},
   "outputs": [],
   "source": [
    "city_foursquare_data.to_csv('city_foursquare_data.csv', index = False)"
   ]
  },
  {
   "cell_type": "code",
   "execution_count": 17,
   "metadata": {},
   "outputs": [],
   "source": [
    "city_yelp_data.to_csv('city_yelp_data.csv', index= False)"
   ]
  },
  {
   "cell_type": "markdown",
   "metadata": {},
   "source": [
    "Provide a visualization that you used as part of your EDA process. Explain the initial pattern or relationship you discoved through this visualization. "
   ]
  },
  {
   "cell_type": "code",
   "execution_count": 19,
   "metadata": {},
   "outputs": [],
   "source": [
    "nearby_venue = city_yelp_data.groupby(by='near_station').count()['name'].sort_values()\n",
    "bike_amt = city_yelp_data[['near_station','free_bikes']].drop_duplicates(keep='first')"
   ]
  },
  {
   "cell_type": "code",
   "execution_count": 20,
   "metadata": {},
   "outputs": [
    {
     "data": {
      "text/plain": [
       "Text(0, 0.5, 'number of restaurant nearby')"
      ]
     },
     "execution_count": 20,
     "metadata": {},
     "output_type": "execute_result"
    },
    {
     "data": {
      "image/png": "[encoded data removed]",
      "text/plain": [
       "<Figure size 640x480 with 1 Axes>"
      ]
     },
     "metadata": {},
     "output_type": "display_data"
    }
   ],
   "source": [
    "x = bike_amt['free_bikes']\n",
    "y = nearby_venue\n",
    "\n",
    "plt.scatter(x,y)\n",
    "plt.xlabel('free bikes')\n",
    "plt.ylabel('number of restaurant nearby')"
   ]
  },
  {
   "cell_type": "code",
   "execution_count": 22,
   "metadata": {},
   "outputs": [
    {
     "data": {
      "text/plain": [
       "Text(0, 0.5, 'review counts')"
      ]
     },
     "execution_count": 22,
     "metadata": {},
     "output_type": "execute_result"
    },
    {
     "data": {
      "image/png": "[encoded data removed]",
      "text/plain": [
       "<Figure size 640x480 with 1 Axes>"
      ]
     },
     "metadata": {},
     "output_type": "display_data"
    }
   ],
   "source": [
    "review_num = city_yelp_data['review_count'].sort_values()\n",
    "\n",
    "x = city_yelp_data['free_bikes']\n",
    "y = review_num\n",
    "\n",
    "plt.scatter(x,y)\n",
    "plt.xlabel('free bikes')\n",
    "plt.ylabel('review counts')"
   ]
  },
  {
   "cell_type": "markdown",
   "metadata": {},
   "source": [
    "# Database"
   ]
  },
  {
   "cell_type": "markdown",
   "metadata": {},
   "source": [
    "Put all your results in an SQLite3 database (remember, SQLite stores its databases as files in your local machine - make sure to create your database in your project's data/ directory!)"
   ]
  },
  {
   "cell_type": "code",
   "execution_count": 41,
   "metadata": {},
   "outputs": [],
   "source": [
    "def create_connection(path): \n",
    "    connection = None\n",
    "    try: \n",
    "        connection = sql.connect(path)\n",
    "        print('Connection Successful')\n",
    "    except Error as err: \n",
    "        print(f\"Error '{err}' has occurred\")\n",
    "    return connection"
   ]
  },
  {
   "cell_type": "code",
   "execution_count": 42,
   "metadata": {},
   "outputs": [],
   "source": [
    "def execute_query(connection, query):\n",
    "    cursor = connection.cursor()\n",
    "    try:\n",
    "        cursor.execute(query)\n",
    "        connection.commit()\n",
    "        print(\"Query executed successfully\")\n",
    "    except Error as err:\n",
    "        print(f\"Error '{err}' has occurred\")"
   ]
  },
  {
   "cell_type": "code",
   "execution_count": 43,
   "metadata": {},
   "outputs": [],
   "source": [
    "def execute_read_query(connection, query):\n",
    "    cursor = connection.cursor()\n",
    "    result = None\n",
    "    try:\n",
    "        cursor.execute(query)\n",
    "        result = cursor.fetchall()\n",
    "        return result\n",
    "    except Error as err:\n",
    "        print(f\"Error '{err}' has occurred\")"
   ]
  },
  {
   "cell_type": "code",
   "execution_count": 29,
   "metadata": {},
   "outputs": [
    {
     "name": "stdout",
     "output_type": "stream",
     "text": [
      "Connection Successful\n"
     ]
    }
   ],
   "source": [
    "connection = create_connection('/Users/Oswal/Documents/GitHub/Project-Week-3/week_3_proj.sqlite')"
   ]
  },
  {
   "cell_type": "code",
   "execution_count": 35,
   "metadata": {},
   "outputs": [
    {
     "name": "stdout",
     "output_type": "stream",
     "text": [
      "Query executed successfully\n"
     ]
    }
   ],
   "source": [
    "query = \"\"\"CREATE TABLE IF NOT EXISTS city_yelp(\n",
    "            name VARCHAR,\n",
    "            country TEXT,\n",
    "            city TEXT,\n",
    "            categories VARCHAR(1000),\n",
    "            review_count INT,\n",
    "            rating FLOAT,\n",
    "            near_station VARCHAR,\n",
    "            address VARCHAR,\n",
    "            empty_slots INT,\n",
    "            free_bikes INT,\n",
    "            latitude FLOAT,\n",
    "            longitude FLOAT,\n",
    "            timestamp TIMESTAMP,\n",
    "            Unique_ID INT)\n",
    "\"\"\"\n",
    "execute_query(connection,query)"
   ]
  },
  {
   "cell_type": "code",
   "execution_count": 50,
   "metadata": {},
   "outputs": [
    {
     "name": "stdout",
     "output_type": "stream",
     "text": [
      "Query executed successfully\n"
     ]
    }
   ],
   "source": [
    "query = \"\"\"CREATE TABLE IF NOT EXISTS city_foursquare(\n",
    "            name VARCHAR,\n",
    "            country TEXT,\n",
    "            categories VARCHAR(1000),\n",
    "            near_station VARCHAR,\n",
    "            address VARCHAR,\n",
    "            empty_slots INT,\n",
    "            free_bikes INT,\n",
    "            latitude FLOAT,\n",
    "            longitude FLOAT,\n",
    "            timestamp TIMESTAMP,\n",
    "            Unique_ID INT)\n",
    "\"\"\"\n",
    "execute_query(connection,query)"
   ]
  },
  {
   "cell_type": "code",
   "execution_count": 36,
   "metadata": {},
   "outputs": [
    {
     "data": {
      "text/plain": [
       "100"
      ]
     },
     "execution_count": 36,
     "metadata": {},
     "output_type": "execute_result"
    }
   ],
   "source": [
    "city_yelp_data.to_sql('city_yelp', connection, if_exists='replace', index=False)"
   ]
  },
  {
   "cell_type": "code",
   "execution_count": 51,
   "metadata": {},
   "outputs": [
    {
     "data": {
      "text/plain": [
       "1710"
      ]
     },
     "execution_count": 51,
     "metadata": {},
     "output_type": "execute_result"
    }
   ],
   "source": [
    "city_foursquare_data.to_sql('city_foursquare', connection, if_exists='replace', index=False)"
   ]
  },
  {
   "cell_type": "markdown",
   "metadata": {},
   "source": [
    "Look at the data before and after the join to validate your data."
   ]
  },
  {
   "cell_type": "code",
   "execution_count": 44,
   "metadata": {},
   "outputs": [
    {
     "name": "stdout",
     "output_type": "stream",
     "text": [
      "('De Danú', 'FR', 'Toulouse', \"[{'alias': 'irish_pubs', 'title': 'Irish Pub'}]\", 84, 4.0, '00197 - CASERNE PERIGNON', '6 AV LOUIS BLERIOT', 19, 1, 43.60038605818475, 1.464093716152017, '2022-12-05T00:29:57.070000Z', 197)\n",
      "('La Dynamo', 'FR', 'Toulouse', \"[{'alias': 'danceclubs', 'title': 'Dance Clubs'}, {'alias': 'musicvenues', 'title': 'Music Venues'}, {'alias': 'bars', 'title': 'Bars'}]\", 31, 4.5, '00197 - CASERNE PERIGNON', '6 AV LOUIS BLERIOT', 19, 1, 43.60038605818475, 1.464093716152017, '2022-12-05T00:29:57.070000Z', 197)\n",
      "('Au Poêle de la Bête', 'FR', 'Toulouse', \"[{'alias': 'tapas', 'title': 'Tapas Bars'}, {'alias': 'beerbar', 'title': 'Beer Bar'}, {'alias': 'pubs', 'title': 'Pubs'}]\", 18, 4.5, '00197 - CASERNE PERIGNON', '6 AV LOUIS BLERIOT', 19, 1, 43.60038605818475, 1.464093716152017, '2022-12-05T00:29:57.070000Z', 197)\n"
     ]
    }
   ],
   "source": [
    "query = 'SELECT * FROM city_yelp'\n",
    "test = execute_read_query(connection, query)\n",
    "for i in test[0:3]:\n",
    "    print(i)"
   ]
  },
  {
   "cell_type": "code",
   "execution_count": 46,
   "metadata": {},
   "outputs": [
    {
     "data": {
      "text/plain": [
       "(100, 14)"
      ]
     },
     "execution_count": 46,
     "metadata": {},
     "output_type": "execute_result"
    }
   ],
   "source": [
    "city_yelp_data.shape"
   ]
  },
  {
   "cell_type": "code",
   "execution_count": 47,
   "metadata": {},
   "outputs": [
    {
     "name": "stdout",
     "output_type": "stream",
     "text": [
      "<class 'pandas.core.frame.DataFrame'>\n",
      "RangeIndex: 100 entries, 0 to 99\n",
      "Data columns (total 14 columns):\n",
      " #   Column        Non-Null Count  Dtype  \n",
      "---  ------        --------------  -----  \n",
      " 0   name          100 non-null    object \n",
      " 1   country       100 non-null    object \n",
      " 2   city          100 non-null    object \n",
      " 3   categories    100 non-null    object \n",
      " 4   review_count  100 non-null    int64  \n",
      " 5   rating        100 non-null    float64\n",
      " 6   near_station  100 non-null    object \n",
      " 7   Address       100 non-null    object \n",
      " 8   empty_slots   100 non-null    int64  \n",
      " 9   free_bikes    100 non-null    int64  \n",
      " 10  latitude      100 non-null    float64\n",
      " 11  longitude     100 non-null    float64\n",
      " 12  timestamp     100 non-null    object \n",
      " 13  Unique ID     100 non-null    int64  \n",
      "dtypes: float64(3), int64(4), object(7)\n",
      "memory usage: 11.1+ KB\n"
     ]
    }
   ],
   "source": [
    "city_yelp_data.info()"
   ]
  },
  {
   "cell_type": "code",
   "execution_count": 52,
   "metadata": {},
   "outputs": [
    {
     "name": "stdout",
     "output_type": "stream",
     "text": [
      "('De Danu', 'FR', \"[{'id': 13006, 'name': 'Beer Bar', 'icon': {'prefix': 'https://ss3.4sqi.net/img/categories_v2/nightlife/pub_', 'suffix': '.png'}}, {'id': 13018, 'name': 'Pub', 'icon': {'prefix': 'https://ss3.4sqi.net/img/categories_v2/nightlife/pub_', 'suffix': '.png'}}, {'id': 13065, 'name': 'Restaurant', 'icon': {'prefix': 'https://ss3.4sqi.net/img/categories_v2/food/default_', 'suffix': '.png'}}]\", '00197 - CASERNE PERIGNON', '6 AV LOUIS BLERIOT', 19, 1, 43.60038605818475, 1.464093716152017, '2022-12-05T00:29:57.070000Z', 197)\n",
      "('De Danu', 'FR', \"[{'id': 13006, 'name': 'Beer Bar', 'icon': {'prefix': 'https://ss3.4sqi.net/img/categories_v2/nightlife/pub_', 'suffix': '.png'}}, {'id': 13018, 'name': 'Pub', 'icon': {'prefix': 'https://ss3.4sqi.net/img/categories_v2/nightlife/pub_', 'suffix': '.png'}}, {'id': 13065, 'name': 'Restaurant', 'icon': {'prefix': 'https://ss3.4sqi.net/img/categories_v2/food/default_', 'suffix': '.png'}}]\", '00213 - PUJOL - CHAUBET', '129 AV DE CASTRES', 16, 1, 43.6007551770534, 1.46751413106582, '2022-12-05T00:29:57.109000Z', 213)\n",
      "('Les Délices de Saturnin', 'FR', \"[{'id': 13035, 'name': 'Coffee Shop', 'icon': {'prefix': 'https://ss3.4sqi.net/img/categories_v2/food/coffeeshop_', 'suffix': '.png'}}, {'id': 13036, 'name': 'Tea Room', 'icon': {'prefix': 'https://ss3.4sqi.net/img/categories_v2/food/tearoom_', 'suffix': '.png'}}, {'id': 13148, 'name': 'French Restaurant', 'icon': {'prefix': 'https://ss3.4sqi.net/img/categories_v2/food/french_', 'suffix': '.png'}}]\", '00055 - SAINT-SERNIN - G. ARNOULT', '2 RUE GATIEN ARNOULT', 4, 11, 43.6089519604964, 1.4410035987262, '2022-12-05T00:29:56.992000Z', 55)\n"
     ]
    }
   ],
   "source": [
    "query = 'SELECT * FROM city_foursquare'\n",
    "test = execute_read_query(connection, query)\n",
    "for i in test[0:3]:\n",
    "    print(i)"
   ]
  },
  {
   "cell_type": "code",
   "execution_count": 48,
   "metadata": {},
   "outputs": [
    {
     "name": "stdout",
     "output_type": "stream",
     "text": [
      "<class 'pandas.core.frame.DataFrame'>\n",
      "RangeIndex: 1710 entries, 0 to 1709\n",
      "Data columns (total 11 columns):\n",
      " #   Column        Non-Null Count  Dtype  \n",
      "---  ------        --------------  -----  \n",
      " 0   name          1710 non-null   object \n",
      " 1   country       1710 non-null   object \n",
      " 2   categories    1710 non-null   object \n",
      " 3   near_station  1710 non-null   object \n",
      " 4   Address       1710 non-null   object \n",
      " 5   empty_slots   1710 non-null   int64  \n",
      " 6   free_bikes    1710 non-null   int64  \n",
      " 7   latitude      1710 non-null   float64\n",
      " 8   longitude     1710 non-null   float64\n",
      " 9   timestamp     1710 non-null   object \n",
      " 10  Unique ID     1710 non-null   int64  \n",
      "dtypes: float64(2), int64(3), object(6)\n",
      "memory usage: 147.1+ KB\n"
     ]
    }
   ],
   "source": [
    "city_foursquare_data.info()"
   ]
  },
  {
   "cell_type": "code",
   "execution_count": 49,
   "metadata": {},
   "outputs": [
    {
     "data": {
      "text/plain": [
       "(1710, 11)"
      ]
     },
     "execution_count": 49,
     "metadata": {},
     "output_type": "execute_result"
    }
   ],
   "source": [
    "city_foursquare_data.shape"
   ]
  }
 ],
 "metadata": {
  "kernelspec": {
   "display_name": "Python 3.8.15 ('THE_ONE')",
   "language": "python",
   "name": "python3"
  },
  "language_info": {
   "codemirror_mode": {
    "name": "ipython",
    "version": 3
   },
   "file_extension": ".py",
   "mimetype": "text/x-python",
   "name": "python",
   "nbconvert_exporter": "python",
   "pygments_lexer": "ipython3",
   "version": "3.8.15"
  },
  "vscode": {
   "interpreter": {
    "hash": "6ad95572a1c15de1d0b8eca79c7b9cd5028505873e2c71ff56ffc4343ef0b428"
   }
  }
 },
 "nbformat": 4,
 "nbformat_minor": 4
}
