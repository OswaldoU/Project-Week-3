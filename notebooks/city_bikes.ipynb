{
 "cells": [
  {
   "cell_type": "markdown",
   "metadata": {},
   "source": [
    "# CityBikes"
   ]
  },
  {
   "cell_type": "markdown",
   "metadata": {},
   "source": [
    "Send a request to CityBikes for the city of your choice. "
   ]
  },
  {
   "cell_type": "code",
   "execution_count": 125,
   "metadata": {},
   "outputs": [],
   "source": [
    "import pandas as pd \n",
    "from pandas import json_normalize\n",
    "import json\n",
    "import requests\n",
    "import citybikes as cb\n",
    "from datetime import datetime"
   ]
  },
  {
   "cell_type": "code",
   "execution_count": 82,
   "metadata": {},
   "outputs": [],
   "source": [
    "## Method 1: JSON"
   ]
  },
  {
   "cell_type": "code",
   "execution_count": 83,
   "metadata": {},
   "outputs": [],
   "source": [
    "city_bikes = requests.get('http://api.citybik.es/v2/networks').json()"
   ]
  },
  {
   "cell_type": "code",
   "execution_count": 84,
   "metadata": {},
   "outputs": [
    {
     "data": {
      "text/plain": [
       "{'company': ['Bike U Sp. z o.o.'],\n",
       " 'href': '/v2/networks/bikeu-bra',\n",
       " 'id': 'bikeu-bra',\n",
       " 'location': {'city': 'Bydgoszcz',\n",
       "  'country': 'PL',\n",
       "  'latitude': 53.12193,\n",
       "  'longitude': 18.00038},\n",
       " 'name': 'Bydgoski rower aglomeracyjny'}"
      ]
     },
     "execution_count": 84,
     "metadata": {},
     "output_type": "execute_result"
    }
   ],
   "source": [
    "city_bikes['networks'][28]"
   ]
  },
  {
   "cell_type": "code",
   "execution_count": 85,
   "metadata": {},
   "outputs": [
    {
     "data": {
      "text/plain": [
       "'IT'"
      ]
     },
     "execution_count": 85,
     "metadata": {},
     "output_type": "execute_result"
    }
   ],
   "source": [
    "city_bikes['networks'][14]['location']['country']"
   ]
  },
  {
   "cell_type": "code",
   "execution_count": 86,
   "metadata": {},
   "outputs": [],
   "source": [
    "def get_city_data(city): \n",
    "    city_bike_networks = requests.get(\"http://api.citybik.es/v2/networks\").json()\n",
    "\n",
    "    list_of_dicts = []\n",
    "    for city_bike_dict in city_bike_networks['networks']:\n",
    "        new_city = city_bike_dict['location']['city']\n",
    "        if new_city.lower() == city.lower(): \n",
    "            list_of_dicts.append(city_bike_dict)\n",
    "    \n",
    "    return list_of_dicts"
   ]
  },
  {
   "cell_type": "code",
   "execution_count": 137,
   "metadata": {},
   "outputs": [
    {
     "name": "stdout",
     "output_type": "stream",
     "text": [
      "[{'company': ['ЗАО «СитиБайк»'], 'href': '/v2/networks/velobike-moscow', 'id': 'velobike-moscow', 'location': {'city': 'Moscow', 'country': 'RU', 'latitude': 55.75, 'longitude': 37.616667}, 'name': 'Velobike'}]\n",
      "----------------------------/n\n",
      "[{'company': ['Barcelona de Serveis Municipals, S.A. (BSM)', 'CESPA', 'PBSC'], 'gbfs_href': 'https://api.bsmsa.eu/ext/api/bsm/gbfs/v2/', 'href': '/v2/networks/bicing', 'id': 'bicing', 'location': {'city': 'Barcelona', 'country': 'ES', 'latitude': 41.3850639, 'longitude': 2.1734035}, 'name': 'Bicing'}]\n",
      "----------------------------/n\n",
      "[{'company': ['PBSC', 'Serco Group plc'], 'href': '/v2/networks/santander-cycles', 'id': 'santander-cycles', 'location': {'city': 'London', 'country': 'GB', 'latitude': 51.51121389999999, 'longitude': -0.1198244}, 'name': 'Santander Cycles'}]\n",
      "----------------------------/n\n",
      "[{'company': None, 'ebikes': True, 'gbfs_href': 'https://velib-metropole-opendata.smoove.pro/opendata/Velib_Metropole/gbfs.json', 'href': '/v2/networks/velib', 'id': 'velib', 'license': {'name': 'OPEN LICENCE 2.0', 'url': 'etalab.gouv.fr/wp-content/uploads/2018/11/open-licence.pdf'}, 'location': {'city': 'Paris', 'country': 'FR', 'latitude': 48.856614, 'longitude': 2.3522219}, 'name': \"Velib' Métropôle\"}]\n",
      "----------------------------/n\n",
      "[{'company': ['Nextbike GmbH'], 'href': '/v2/networks/nextbike-glasgow', 'id': 'nextbike-glasgow', 'location': {'city': 'Glasgow', 'country': 'GB', 'latitude': 55.8589, 'longitude': -4.25549}, 'name': 'Nextbike'}]\n",
      "----------------------------/n\n",
      "[{'company': ['JCDecaux'], 'href': '/v2/networks/velo', 'id': 'velo', 'license': {'name': 'Open Licence', 'url': 'https://developer.jcdecaux.com/#/opendata/licence'}, 'location': {'city': 'Toulouse', 'country': 'FR', 'latitude': 43.604652, 'longitude': 1.444209}, 'name': 'Vélô', 'source': 'https://developer.jcdecaux.com'}]\n",
      "----------------------------/n\n",
      "[{'company': ['Bike U Sp. z o.o.'], 'href': '/v2/networks/bikeu-bra', 'id': 'bikeu-bra', 'location': {'city': 'Bydgoszcz', 'country': 'PL', 'latitude': 53.12193, 'longitude': 18.00038}, 'name': 'Bydgoski rower aglomeracyjny'}]\n",
      "----------------------------/n\n"
     ]
    }
   ],
   "source": [
    "city_names = ['Moscow', 'Barcelona', 'London', 'Paris', 'Glasgow', 'Toulouse', 'Bydgoszcz']\n",
    "\n",
    "for each_city in city_names: \n",
    "    print(get_city_data(each_city))\n",
    "    print(\"----------------------------/n\")"
   ]
  },
  {
   "cell_type": "code",
   "execution_count": 88,
   "metadata": {},
   "outputs": [
    {
     "data": {
      "text/plain": [
       "[{'company': ['JCDecaux'],\n",
       "  'href': '/v2/networks/velo',\n",
       "  'id': 'velo',\n",
       "  'license': {'name': 'Open Licence',\n",
       "   'url': 'https://developer.jcdecaux.com/#/opendata/licence'},\n",
       "  'location': {'city': 'Toulouse',\n",
       "   'country': 'FR',\n",
       "   'latitude': 43.604652,\n",
       "   'longitude': 1.444209},\n",
       "  'name': 'Vélô',\n",
       "  'source': 'https://developer.jcdecaux.com'}]"
      ]
     },
     "execution_count": 88,
     "metadata": {},
     "output_type": "execute_result"
    }
   ],
   "source": [
    "get_city_data(\"Toulouse\")"
   ]
  },
  {
   "cell_type": "markdown",
   "metadata": {},
   "source": [
    "Parse through the response to get the details you want for the bike stations in that city (latitude, longitude, number of bikes). "
   ]
  },
  {
   "cell_type": "code",
   "execution_count": 95,
   "metadata": {},
   "outputs": [],
   "source": [
    "def get_stations_info(city): \n",
    "\n",
    "    station_dict = get_city_data(city)\n",
    "    if not station_dict: \n",
    "        print(\"Error: no bike company found for {}\".format(city))\n",
    "        return None\n",
    "    \n",
    "    network_adress = station_dict[0]['href']\n",
    "    url = \"http://api.citybik.es/{}\".format(network_adress)\n",
    "    return requests.get(url).json()['network']['stations']\n"
   ]
  },
  {
   "cell_type": "code",
   "execution_count": null,
   "metadata": {},
   "outputs": [],
   "source": [
    "city = \"Toulouse\"\n",
    "station_info = get_stations_info(city)\n",
    "station_info"
   ]
  },
  {
   "cell_type": "code",
   "execution_count": 168,
   "metadata": {},
   "outputs": [],
   "source": [
    "def get_available_stations(city = \"Toulouse\"):\n",
    "    \n",
    "    station_info = get_stations_info(city)\n",
    "    \n",
    "    station_list = []\n",
    "    for info in station_info:\n",
    "        \n",
    "        a_dict = {\n",
    "            'Station Name' : info['name'],\n",
    "            'Address' : info['extra']['address'],\n",
    "            'empty_slots' : info['empty_slots'],\n",
    "            'free_bikes' : info['free_bikes'],\n",
    "            'latitude' : info['latitude'],\n",
    "            'longitude' : info['longitude'],\n",
    "            'timestamp' : info['timestamp'],\n",
    "            'Unique ID' : info['extra']['uid'],\n",
    "        }\n",
    "        station_list.append(a_dict)\n",
    "    \n",
    "    return pd.DataFrame(station_list)"
   ]
  },
  {
   "cell_type": "code",
   "execution_count": 169,
   "metadata": {},
   "outputs": [
    {
     "data": {
      "text/html": [
       "<div>\n",
       "<style scoped>\n",
       "    .dataframe tbody tr th:only-of-type {\n",
       "        vertical-align: middle;\n",
       "    }\n",
       "\n",
       "    .dataframe tbody tr th {\n",
       "        vertical-align: top;\n",
       "    }\n",
       "\n",
       "    .dataframe thead th {\n",
       "        text-align: right;\n",
       "    }\n",
       "</style>\n",
       "<table border=\"1\" class=\"dataframe\">\n",
       "  <thead>\n",
       "    <tr style=\"text-align: right;\">\n",
       "      <th></th>\n",
       "      <th>Station Name</th>\n",
       "      <th>Address</th>\n",
       "      <th>empty_slots</th>\n",
       "      <th>free_bikes</th>\n",
       "      <th>latitude</th>\n",
       "      <th>longitude</th>\n",
       "      <th>timestamp</th>\n",
       "      <th>Unique ID</th>\n",
       "    </tr>\n",
       "  </thead>\n",
       "  <tbody>\n",
       "    <tr>\n",
       "      <th>0</th>\n",
       "      <td>00197 - CASERNE PERIGNON</td>\n",
       "      <td>6 AV LOUIS BLERIOT</td>\n",
       "      <td>19</td>\n",
       "      <td>1</td>\n",
       "      <td>43.600386</td>\n",
       "      <td>1.464094</td>\n",
       "      <td>2022-12-05T00:29:57.070000Z</td>\n",
       "      <td>197</td>\n",
       "    </tr>\n",
       "    <tr>\n",
       "      <th>1</th>\n",
       "      <td>00213 - PUJOL - CHAUBET</td>\n",
       "      <td>129 AV DE CASTRES</td>\n",
       "      <td>16</td>\n",
       "      <td>1</td>\n",
       "      <td>43.600755</td>\n",
       "      <td>1.467514</td>\n",
       "      <td>2022-12-05T00:29:57.109000Z</td>\n",
       "      <td>213</td>\n",
       "    </tr>\n",
       "    <tr>\n",
       "      <th>2</th>\n",
       "      <td>00055 - SAINT-SERNIN - G. ARNOULT</td>\n",
       "      <td>2 RUE GATIEN ARNOULT</td>\n",
       "      <td>4</td>\n",
       "      <td>11</td>\n",
       "      <td>43.608952</td>\n",
       "      <td>1.441004</td>\n",
       "      <td>2022-12-05T00:29:56.992000Z</td>\n",
       "      <td>55</td>\n",
       "    </tr>\n",
       "    <tr>\n",
       "      <th>3</th>\n",
       "      <td>00195 - LARROUSSE - RIEUX</td>\n",
       "      <td>FACE 15 RUE PIERRE LAROUSSE</td>\n",
       "      <td>13</td>\n",
       "      <td>5</td>\n",
       "      <td>43.597235</td>\n",
       "      <td>1.459071</td>\n",
       "      <td>2022-12-05T00:29:56.994000Z</td>\n",
       "      <td>195</td>\n",
       "    </tr>\n",
       "    <tr>\n",
       "      <th>4</th>\n",
       "      <td>00280 - CHARBONNIERE</td>\n",
       "      <td>RUE DE LA CHARBONNIERE ENTRE IMP AMPERE ET RUE...</td>\n",
       "      <td>8</td>\n",
       "      <td>10</td>\n",
       "      <td>43.573830</td>\n",
       "      <td>1.448710</td>\n",
       "      <td>2022-12-05T00:29:56.996000Z</td>\n",
       "      <td>280</td>\n",
       "    </tr>\n",
       "  </tbody>\n",
       "</table>\n",
       "</div>"
      ],
      "text/plain": [
       "                        Station Name  \\\n",
       "0           00197 - CASERNE PERIGNON   \n",
       "1            00213 - PUJOL - CHAUBET   \n",
       "2  00055 - SAINT-SERNIN - G. ARNOULT   \n",
       "3          00195 - LARROUSSE - RIEUX   \n",
       "4               00280 - CHARBONNIERE   \n",
       "\n",
       "                                             Address  empty_slots  free_bikes  \\\n",
       "0                                 6 AV LOUIS BLERIOT           19           1   \n",
       "1                                  129 AV DE CASTRES           16           1   \n",
       "2                               2 RUE GATIEN ARNOULT            4          11   \n",
       "3                        FACE 15 RUE PIERRE LAROUSSE           13           5   \n",
       "4  RUE DE LA CHARBONNIERE ENTRE IMP AMPERE ET RUE...            8          10   \n",
       "\n",
       "    latitude  longitude                    timestamp  Unique ID  \n",
       "0  43.600386   1.464094  2022-12-05T00:29:57.070000Z        197  \n",
       "1  43.600755   1.467514  2022-12-05T00:29:57.109000Z        213  \n",
       "2  43.608952   1.441004  2022-12-05T00:29:56.992000Z         55  \n",
       "3  43.597235   1.459071  2022-12-05T00:29:56.994000Z        195  \n",
       "4  43.573830   1.448710  2022-12-05T00:29:56.996000Z        280  "
      ]
     },
     "execution_count": 169,
     "metadata": {},
     "output_type": "execute_result"
    }
   ],
   "source": [
    "get_available_stations(city = 'Toulouse').head()"
   ]
  },
  {
   "cell_type": "code",
   "execution_count": 170,
   "metadata": {},
   "outputs": [],
   "source": [
    "df = get_available_stations(city = \"Toulouse\")"
   ]
  },
  {
   "cell_type": "code",
   "execution_count": 171,
   "metadata": {},
   "outputs": [
    {
     "data": {
      "text/html": [
       "<div>\n",
       "<style scoped>\n",
       "    .dataframe tbody tr th:only-of-type {\n",
       "        vertical-align: middle;\n",
       "    }\n",
       "\n",
       "    .dataframe tbody tr th {\n",
       "        vertical-align: top;\n",
       "    }\n",
       "\n",
       "    .dataframe thead th {\n",
       "        text-align: right;\n",
       "    }\n",
       "</style>\n",
       "<table border=\"1\" class=\"dataframe\">\n",
       "  <thead>\n",
       "    <tr style=\"text-align: right;\">\n",
       "      <th></th>\n",
       "      <th>Station Name</th>\n",
       "      <th>Address</th>\n",
       "      <th>empty_slots</th>\n",
       "      <th>free_bikes</th>\n",
       "      <th>latitude</th>\n",
       "      <th>longitude</th>\n",
       "      <th>timestamp</th>\n",
       "      <th>Unique ID</th>\n",
       "    </tr>\n",
       "  </thead>\n",
       "  <tbody>\n",
       "    <tr>\n",
       "      <th>0</th>\n",
       "      <td>00197 - CASERNE PERIGNON</td>\n",
       "      <td>6 AV LOUIS BLERIOT</td>\n",
       "      <td>19</td>\n",
       "      <td>1</td>\n",
       "      <td>43.600386</td>\n",
       "      <td>1.464094</td>\n",
       "      <td>2022-12-05T00:29:57.070000Z</td>\n",
       "      <td>197</td>\n",
       "    </tr>\n",
       "    <tr>\n",
       "      <th>1</th>\n",
       "      <td>00213 - PUJOL - CHAUBET</td>\n",
       "      <td>129 AV DE CASTRES</td>\n",
       "      <td>16</td>\n",
       "      <td>1</td>\n",
       "      <td>43.600755</td>\n",
       "      <td>1.467514</td>\n",
       "      <td>2022-12-05T00:29:57.109000Z</td>\n",
       "      <td>213</td>\n",
       "    </tr>\n",
       "    <tr>\n",
       "      <th>2</th>\n",
       "      <td>00055 - SAINT-SERNIN - G. ARNOULT</td>\n",
       "      <td>2 RUE GATIEN ARNOULT</td>\n",
       "      <td>4</td>\n",
       "      <td>11</td>\n",
       "      <td>43.608952</td>\n",
       "      <td>1.441004</td>\n",
       "      <td>2022-12-05T00:29:56.992000Z</td>\n",
       "      <td>55</td>\n",
       "    </tr>\n",
       "    <tr>\n",
       "      <th>3</th>\n",
       "      <td>00195 - LARROUSSE - RIEUX</td>\n",
       "      <td>FACE 15 RUE PIERRE LAROUSSE</td>\n",
       "      <td>13</td>\n",
       "      <td>5</td>\n",
       "      <td>43.597235</td>\n",
       "      <td>1.459071</td>\n",
       "      <td>2022-12-05T00:29:56.994000Z</td>\n",
       "      <td>195</td>\n",
       "    </tr>\n",
       "    <tr>\n",
       "      <th>4</th>\n",
       "      <td>00280 - CHARBONNIERE</td>\n",
       "      <td>RUE DE LA CHARBONNIERE ENTRE IMP AMPERE ET RUE...</td>\n",
       "      <td>8</td>\n",
       "      <td>10</td>\n",
       "      <td>43.573830</td>\n",
       "      <td>1.448710</td>\n",
       "      <td>2022-12-05T00:29:56.996000Z</td>\n",
       "      <td>280</td>\n",
       "    </tr>\n",
       "  </tbody>\n",
       "</table>\n",
       "</div>"
      ],
      "text/plain": [
       "                        Station Name  \\\n",
       "0           00197 - CASERNE PERIGNON   \n",
       "1            00213 - PUJOL - CHAUBET   \n",
       "2  00055 - SAINT-SERNIN - G. ARNOULT   \n",
       "3          00195 - LARROUSSE - RIEUX   \n",
       "4               00280 - CHARBONNIERE   \n",
       "\n",
       "                                             Address  empty_slots  free_bikes  \\\n",
       "0                                 6 AV LOUIS BLERIOT           19           1   \n",
       "1                                  129 AV DE CASTRES           16           1   \n",
       "2                               2 RUE GATIEN ARNOULT            4          11   \n",
       "3                        FACE 15 RUE PIERRE LAROUSSE           13           5   \n",
       "4  RUE DE LA CHARBONNIERE ENTRE IMP AMPERE ET RUE...            8          10   \n",
       "\n",
       "    latitude  longitude                    timestamp  Unique ID  \n",
       "0  43.600386   1.464094  2022-12-05T00:29:57.070000Z        197  \n",
       "1  43.600755   1.467514  2022-12-05T00:29:57.109000Z        213  \n",
       "2  43.608952   1.441004  2022-12-05T00:29:56.992000Z         55  \n",
       "3  43.597235   1.459071  2022-12-05T00:29:56.994000Z        195  \n",
       "4  43.573830   1.448710  2022-12-05T00:29:56.996000Z        280  "
      ]
     },
     "execution_count": 171,
     "metadata": {},
     "output_type": "execute_result"
    }
   ],
   "source": [
    "df.head()"
   ]
  },
  {
   "cell_type": "code",
   "execution_count": 173,
   "metadata": {},
   "outputs": [],
   "source": [
    "df.to_csv('/Users/Oswal/Documents/GitHub/Project-Week-3/notebooks/Toulouse_Data.csv', index = False)"
   ]
  },
  {
   "cell_type": "code",
   "execution_count": 143,
   "metadata": {},
   "outputs": [],
   "source": [
    "## Method 2: use python city-bikes pkg\n",
    "\n",
    "import pandas as pd \n",
    "import json \n",
    "from pandas.io.json import json_normalize\n",
    "import requests\n",
    "import citybikes as cb\n",
    "from datetime import datetime\n"
   ]
  },
  {
   "cell_type": "code",
   "execution_count": 144,
   "metadata": {},
   "outputs": [],
   "source": [
    "client = cb.Client()"
   ]
  },
  {
   "cell_type": "code",
   "execution_count": 145,
   "metadata": {},
   "outputs": [],
   "source": [
    "networks = list(client.networks)"
   ]
  },
  {
   "cell_type": "code",
   "execution_count": 146,
   "metadata": {},
   "outputs": [
    {
     "data": {
      "text/plain": [
       "614"
      ]
     },
     "execution_count": 146,
     "metadata": {},
     "output_type": "execute_result"
    }
   ],
   "source": [
    "len(networks)"
   ]
  },
  {
   "cell_type": "code",
   "execution_count": 147,
   "metadata": {},
   "outputs": [
    {
     "data": {
      "text/plain": [
       "56"
      ]
     },
     "execution_count": 147,
     "metadata": {},
     "output_type": "execute_result"
    }
   ],
   "source": [
    "len(networks[28].stations)\n"
   ]
  },
  {
   "cell_type": "code",
   "execution_count": 148,
   "metadata": {},
   "outputs": [
    {
     "data": {
      "text/plain": [
       "{'empty_slots': 9, 'extra': {'address': 'ст. м. Кропоткинская (выход к Гоголевскому бульвару)', 'ebikes': 0, 'electric_free': 0, 'electric_slots': 0, 'normal_bikes': 3, 'normal_free': 9, 'normal_slots': 12, 'slots': 12, 'uid': '0001'}, 'free_bikes': 3, 'id': 'c8a5761ea95e927808b2f37fd65a00f6', 'latitude': 55.7449006, 'longitude': 37.6020183, 'name': 'ст. м. Кропоткинская (выход к Гоголевскому бульвару)', 'timestamp': '2022-10-29T19:26:58.716000Z'}"
      ]
     },
     "execution_count": 148,
     "metadata": {},
     "output_type": "execute_result"
    }
   ],
   "source": [
    "list(networks[0].stations)[0]"
   ]
  },
  {
   "cell_type": "code",
   "execution_count": 149,
   "metadata": {},
   "outputs": [],
   "source": [
    "client = cb.Client()\n",
    "ToulouseVelo = cb.Network(client, uid='velo')\n",
    "\n",
    "with open('ToulouseVelo.json', 'w') as f:\n",
    "    json.dump(ToulouseVelo.data, f, indent=2)"
   ]
  },
  {
   "cell_type": "markdown",
   "metadata": {},
   "source": [
    "Put your parsed results into a DataFrame."
   ]
  },
  {
   "cell_type": "code",
   "execution_count": 150,
   "metadata": {},
   "outputs": [],
   "source": [
    "with open('/Users/Oswal/Documents/GitHub/Project-Week-3/notebooks/ToulouseVelo.json') as Toulouse_data:\n",
    "    data = json.load(Toulouse_data)"
   ]
  },
  {
   "cell_type": "code",
   "execution_count": 161,
   "metadata": {},
   "outputs": [],
   "source": [
    "df = pd.json_normalize(data)"
   ]
  },
  {
   "cell_type": "code",
   "execution_count": 162,
   "metadata": {},
   "outputs": [
    {
     "data": {
      "text/html": [
       "<div>\n",
       "<style scoped>\n",
       "    .dataframe tbody tr th:only-of-type {\n",
       "        vertical-align: middle;\n",
       "    }\n",
       "\n",
       "    .dataframe tbody tr th {\n",
       "        vertical-align: top;\n",
       "    }\n",
       "\n",
       "    .dataframe thead th {\n",
       "        text-align: right;\n",
       "    }\n",
       "</style>\n",
       "<table border=\"1\" class=\"dataframe\">\n",
       "  <thead>\n",
       "    <tr style=\"text-align: right;\">\n",
       "      <th></th>\n",
       "      <th>company</th>\n",
       "      <th>href</th>\n",
       "      <th>id</th>\n",
       "      <th>name</th>\n",
       "      <th>source</th>\n",
       "      <th>stations</th>\n",
       "      <th>license.name</th>\n",
       "      <th>license.url</th>\n",
       "      <th>location.city</th>\n",
       "      <th>location.country</th>\n",
       "      <th>location.latitude</th>\n",
       "      <th>location.longitude</th>\n",
       "    </tr>\n",
       "  </thead>\n",
       "  <tbody>\n",
       "    <tr>\n",
       "      <th>0</th>\n",
       "      <td>[JCDecaux]</td>\n",
       "      <td>/v2/networks/velo</td>\n",
       "      <td>velo</td>\n",
       "      <td>Vélô</td>\n",
       "      <td>https://developer.jcdecaux.com</td>\n",
       "      <td>[{'empty_slots': 19, 'extra': {'address': '6 A...</td>\n",
       "      <td>Open Licence</td>\n",
       "      <td>https://developer.jcdecaux.com/#/opendata/licence</td>\n",
       "      <td>Toulouse</td>\n",
       "      <td>FR</td>\n",
       "      <td>43.604652</td>\n",
       "      <td>1.444209</td>\n",
       "    </tr>\n",
       "  </tbody>\n",
       "</table>\n",
       "</div>"
      ],
      "text/plain": [
       "      company               href    id  name                          source  \\\n",
       "0  [JCDecaux]  /v2/networks/velo  velo  Vélô  https://developer.jcdecaux.com   \n",
       "\n",
       "                                            stations  license.name  \\\n",
       "0  [{'empty_slots': 19, 'extra': {'address': '6 A...  Open Licence   \n",
       "\n",
       "                                         license.url location.city  \\\n",
       "0  https://developer.jcdecaux.com/#/opendata/licence      Toulouse   \n",
       "\n",
       "  location.country  location.latitude  location.longitude  \n",
       "0               FR          43.604652            1.444209  "
      ]
     },
     "execution_count": 162,
     "metadata": {},
     "output_type": "execute_result"
    }
   ],
   "source": [
    "df.head()"
   ]
  },
  {
   "cell_type": "code",
   "execution_count": 159,
   "metadata": {},
   "outputs": [
    {
     "data": {
      "text/plain": [
       "<bound method NDFrame.to_csv of       company               href    id  name                          source  \\\n",
       "0  [JCDecaux]  /v2/networks/velo  velo  Vélô  https://developer.jcdecaux.com   \n",
       "\n",
       "                                            stations  license.name  \\\n",
       "0  [{'empty_slots': 19, 'extra': {'address': '6 A...  Open Licence   \n",
       "\n",
       "                                         license.url location.city  \\\n",
       "0  https://developer.jcdecaux.com/#/opendata/licence      Toulouse   \n",
       "\n",
       "  location.country  location.latitude  location.longitude  \n",
       "0               FR          43.604652            1.444209  >"
      ]
     },
     "execution_count": 159,
     "metadata": {},
     "output_type": "execute_result"
    }
   ],
   "source": [
    "df.to_csv"
   ]
  },
  {
   "cell_type": "code",
   "execution_count": null,
   "metadata": {},
   "outputs": [],
   "source": []
  }
 ],
 "metadata": {
  "kernelspec": {
   "display_name": "Python 3.8.15 ('THE_ONE')",
   "language": "python",
   "name": "python3"
  },
  "language_info": {
   "codemirror_mode": {
    "name": "ipython",
    "version": 3
   },
   "file_extension": ".py",
   "mimetype": "text/x-python",
   "name": "python",
   "nbconvert_exporter": "python",
   "pygments_lexer": "ipython3",
   "version": "3.8.15"
  },
  "vscode": {
   "interpreter": {
    "hash": "6ad95572a1c15de1d0b8eca79c7b9cd5028505873e2c71ff56ffc4343ef0b428"
   }
  }
 },
 "nbformat": 4,
 "nbformat_minor": 4
}
