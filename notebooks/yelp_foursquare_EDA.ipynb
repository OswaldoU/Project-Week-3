{
 "cells": [
  {
   "cell_type": "code",
   "execution_count": 1,
   "metadata": {},
   "outputs": [],
   "source": [
    "# imports\n",
    "import pandas as pd\n",
    "from datetime import datetime\n",
    "import json \n",
    "import numpy as np \n",
    "import os \n",
    "import requests"
   ]
  },
  {
   "cell_type": "markdown",
   "metadata": {},
   "source": [
    "# Foursquare"
   ]
  },
  {
   "cell_type": "markdown",
   "metadata": {},
   "source": [
    "Send a request to Foursquare with a small radius (1000m) for all the bike stations in your city of choice. "
   ]
  },
  {
   "cell_type": "code",
   "execution_count": 2,
   "metadata": {},
   "outputs": [],
   "source": [
    "cb_df = pd.read_csv('/Users/Oswal/Documents/GitHub/Project-Week-3/notebooks/Toulouse_Data.csv')"
   ]
  },
  {
   "cell_type": "code",
   "execution_count": 3,
   "metadata": {},
   "outputs": [
    {
     "data": {
      "text/html": [
       "<div>\n",
       "<style scoped>\n",
       "    .dataframe tbody tr th:only-of-type {\n",
       "        vertical-align: middle;\n",
       "    }\n",
       "\n",
       "    .dataframe tbody tr th {\n",
       "        vertical-align: top;\n",
       "    }\n",
       "\n",
       "    .dataframe thead th {\n",
       "        text-align: right;\n",
       "    }\n",
       "</style>\n",
       "<table border=\"1\" class=\"dataframe\">\n",
       "  <thead>\n",
       "    <tr style=\"text-align: right;\">\n",
       "      <th></th>\n",
       "      <th>Station Name</th>\n",
       "      <th>Address</th>\n",
       "      <th>empty_slots</th>\n",
       "      <th>free_bikes</th>\n",
       "      <th>latitude</th>\n",
       "      <th>longitude</th>\n",
       "      <th>timestamp</th>\n",
       "      <th>Unique ID</th>\n",
       "    </tr>\n",
       "  </thead>\n",
       "  <tbody>\n",
       "    <tr>\n",
       "      <th>0</th>\n",
       "      <td>00197 - CASERNE PERIGNON</td>\n",
       "      <td>6 AV LOUIS BLERIOT</td>\n",
       "      <td>19</td>\n",
       "      <td>1</td>\n",
       "      <td>43.600386</td>\n",
       "      <td>1.464094</td>\n",
       "      <td>2022-12-05T00:29:57.070000Z</td>\n",
       "      <td>197</td>\n",
       "    </tr>\n",
       "    <tr>\n",
       "      <th>1</th>\n",
       "      <td>00213 - PUJOL - CHAUBET</td>\n",
       "      <td>129 AV DE CASTRES</td>\n",
       "      <td>16</td>\n",
       "      <td>1</td>\n",
       "      <td>43.600755</td>\n",
       "      <td>1.467514</td>\n",
       "      <td>2022-12-05T00:29:57.109000Z</td>\n",
       "      <td>213</td>\n",
       "    </tr>\n",
       "    <tr>\n",
       "      <th>2</th>\n",
       "      <td>00055 - SAINT-SERNIN - G. ARNOULT</td>\n",
       "      <td>2 RUE GATIEN ARNOULT</td>\n",
       "      <td>4</td>\n",
       "      <td>11</td>\n",
       "      <td>43.608952</td>\n",
       "      <td>1.441004</td>\n",
       "      <td>2022-12-05T00:29:56.992000Z</td>\n",
       "      <td>55</td>\n",
       "    </tr>\n",
       "    <tr>\n",
       "      <th>3</th>\n",
       "      <td>00195 - LARROUSSE - RIEUX</td>\n",
       "      <td>FACE 15 RUE PIERRE LAROUSSE</td>\n",
       "      <td>13</td>\n",
       "      <td>5</td>\n",
       "      <td>43.597235</td>\n",
       "      <td>1.459071</td>\n",
       "      <td>2022-12-05T00:29:56.994000Z</td>\n",
       "      <td>195</td>\n",
       "    </tr>\n",
       "    <tr>\n",
       "      <th>4</th>\n",
       "      <td>00280 - CHARBONNIERE</td>\n",
       "      <td>RUE DE LA CHARBONNIERE ENTRE IMP AMPERE ET RUE...</td>\n",
       "      <td>8</td>\n",
       "      <td>10</td>\n",
       "      <td>43.573830</td>\n",
       "      <td>1.448710</td>\n",
       "      <td>2022-12-05T00:29:56.996000Z</td>\n",
       "      <td>280</td>\n",
       "    </tr>\n",
       "  </tbody>\n",
       "</table>\n",
       "</div>"
      ],
      "text/plain": [
       "                        Station Name  \\\n",
       "0           00197 - CASERNE PERIGNON   \n",
       "1            00213 - PUJOL - CHAUBET   \n",
       "2  00055 - SAINT-SERNIN - G. ARNOULT   \n",
       "3          00195 - LARROUSSE - RIEUX   \n",
       "4               00280 - CHARBONNIERE   \n",
       "\n",
       "                                             Address  empty_slots  free_bikes  \\\n",
       "0                                 6 AV LOUIS BLERIOT           19           1   \n",
       "1                                  129 AV DE CASTRES           16           1   \n",
       "2                               2 RUE GATIEN ARNOULT            4          11   \n",
       "3                        FACE 15 RUE PIERRE LAROUSSE           13           5   \n",
       "4  RUE DE LA CHARBONNIERE ENTRE IMP AMPERE ET RUE...            8          10   \n",
       "\n",
       "    latitude  longitude                    timestamp  Unique ID  \n",
       "0  43.600386   1.464094  2022-12-05T00:29:57.070000Z        197  \n",
       "1  43.600755   1.467514  2022-12-05T00:29:57.109000Z        213  \n",
       "2  43.608952   1.441004  2022-12-05T00:29:56.992000Z         55  \n",
       "3  43.597235   1.459071  2022-12-05T00:29:56.994000Z        195  \n",
       "4  43.573830   1.448710  2022-12-05T00:29:56.996000Z        280  "
      ]
     },
     "execution_count": 3,
     "metadata": {},
     "output_type": "execute_result"
    }
   ],
   "source": [
    "cb_df.head()"
   ]
  },
  {
   "cell_type": "code",
   "execution_count": 122,
   "metadata": {},
   "outputs": [
    {
     "name": "stdout",
     "output_type": "stream",
     "text": [
      "<class 'pandas.core.frame.DataFrame'>\n",
      "RangeIndex: 286 entries, 0 to 285\n",
      "Data columns (total 8 columns):\n",
      " #   Column        Non-Null Count  Dtype  \n",
      "---  ------        --------------  -----  \n",
      " 0   Station Name  286 non-null    object \n",
      " 1   Address       286 non-null    object \n",
      " 2   empty_slots   286 non-null    int64  \n",
      " 3   free_bikes    286 non-null    int64  \n",
      " 4   latitude      286 non-null    float64\n",
      " 5   longitude     286 non-null    float64\n",
      " 6   timestamp     286 non-null    object \n",
      " 7   Unique ID     286 non-null    int64  \n",
      "dtypes: float64(2), int64(3), object(3)\n",
      "memory usage: 18.0+ KB\n"
     ]
    }
   ],
   "source": [
    "cb_df.info()"
   ]
  },
  {
   "cell_type": "code",
   "execution_count": 5,
   "metadata": {},
   "outputs": [
    {
     "data": {
      "text/plain": [
       "(286, 8)"
      ]
     },
     "execution_count": 5,
     "metadata": {},
     "output_type": "execute_result"
    }
   ],
   "source": [
    "cb_df.shape"
   ]
  },
  {
   "cell_type": "code",
   "execution_count": 6,
   "metadata": {},
   "outputs": [],
   "source": [
    "station_name = cb_df['Station Name']\n",
    "address = cb_df['Address']\n",
    "empty_slots = cb_df['empty_slots']\n",
    "free_bikes = cb_df['free_bikes']\n",
    "longitude = cb_df['longitude']\n",
    "latitude = cb_df['latitude']\n",
    "timestamp = cb_df['timestamp']\n",
    "id = cb_df['Unique ID']"
   ]
  },
  {
   "cell_type": "code",
   "execution_count": 7,
   "metadata": {},
   "outputs": [
    {
     "name": "stdout",
     "output_type": "stream",
     "text": [
      "43.60038605818475 1.464093716152017\n",
      "00197 - CASERNE PERIGNON\n"
     ]
    }
   ],
   "source": [
    "print(latitude[0],longitude[0])\n",
    "print(station_name[0])"
   ]
  },
  {
   "cell_type": "code",
   "execution_count": 8,
   "metadata": {},
   "outputs": [],
   "source": [
    "api_key= 'API_KEY'"
   ]
  },
  {
   "cell_type": "code",
   "execution_count": 9,
   "metadata": {},
   "outputs": [
    {
     "name": "stdout",
     "output_type": "stream",
     "text": [
      "https://api.foursquare.com/v3/places/search?ll=43.60038605818475,1.464093716152017&radius=1000&categories=13003%2C%2013032%2C%2018062%2C%2010040%20\n"
     ]
    },
    {
     "data": {
      "text/plain": [
       "'Beer Bar'"
      ]
     },
     "execution_count": 9,
     "metadata": {},
     "output_type": "execute_result"
    }
   ],
   "source": [
    "url = 'https://api.foursquare.com/v3/places/search?ll=' + str(latitude[0]) + ',' + str(longitude[0]) +'&radius=1000'+'&categories=13003%2C%2013032%2C%2018062%2C%2010040%20'\n",
    "print(url)\n",
    "headers = {\"Accept\":\"application/json\"}\n",
    "headers['Authorization'] = api_key\n",
    "result = requests.get(url,headers = headers)\n",
    "\n",
    "foursquare_data = result.json()\n",
    "foursquare_data['results'][0]['categories'][0]['name']"
   ]
  },
  {
   "cell_type": "code",
   "execution_count": 10,
   "metadata": {},
   "outputs": [],
   "source": [
    "fsquare_list = []\n",
    "for i in range(len(latitude)):\n",
    "    url = 'https://api.foursquare.com/v3/places/search?ll=' + str(latitude[i]) + ',' + str(longitude[i]) +'&radius=1000'+'&categories=13003%2C%2013032%2C%2018062%2C%2010040%20'\n",
    "    headers = {\"Accept\":\"application/json\"}\n",
    "    headers['Authorization'] = api_key\n",
    "    result_test = requests.get(url, headers=headers)\n",
    "    fsquare_list.append(result_test.json())"
   ]
  },
  {
   "cell_type": "code",
   "execution_count": 17,
   "metadata": {},
   "outputs": [],
   "source": [
    "def hotspots_filter(df):\n",
    "    hotspots = []\n",
    "    for i in range(len(df['results'])):\n",
    "                hotspots.append(df['results'][i])\n",
    "                break\n",
    "    return hotspots"
   ]
  },
  {
   "cell_type": "code",
   "execution_count": 18,
   "metadata": {},
   "outputs": [],
   "source": [
    "hotspots_data =[]\n",
    "for i in range(len(fsquare_list)):\n",
    "    hotspots_data.append(hotspots_filter(fsquare_list[i]))\n"
   ]
  },
  {
   "cell_type": "code",
   "execution_count": 47,
   "metadata": {},
   "outputs": [
    {
     "data": {
      "text/html": [
       "<div>\n",
       "<style scoped>\n",
       "    .dataframe tbody tr th:only-of-type {\n",
       "        vertical-align: middle;\n",
       "    }\n",
       "\n",
       "    .dataframe tbody tr th {\n",
       "        vertical-align: top;\n",
       "    }\n",
       "\n",
       "    .dataframe thead th {\n",
       "        text-align: right;\n",
       "    }\n",
       "</style>\n",
       "<table border=\"1\" class=\"dataframe\">\n",
       "  <thead>\n",
       "    <tr style=\"text-align: right;\">\n",
       "      <th></th>\n",
       "      <th>name</th>\n",
       "      <th>country</th>\n",
       "      <th>categories</th>\n",
       "      <th>near_station</th>\n",
       "    </tr>\n",
       "  </thead>\n",
       "  <tbody>\n",
       "  </tbody>\n",
       "</table>\n",
       "</div>"
      ],
      "text/plain": [
       "Empty DataFrame\n",
       "Columns: [name, country, categories, near_station]\n",
       "Index: []"
      ]
     },
     "execution_count": 47,
     "metadata": {},
     "output_type": "execute_result"
    }
   ],
   "source": [
    "\n",
    "venue_data = pd.DataFrame(columns=['name','country','categories','near_station'])\n",
    "venue_data"
   ]
  },
  {
   "cell_type": "markdown",
   "metadata": {},
   "source": [
    "Put your parsed results into a DataFrame"
   ]
  },
  {
   "cell_type": "code",
   "execution_count": 73,
   "metadata": {},
   "outputs": [],
   "source": [
    "def data_extract(df, venue_data, cb_df):\n",
    "    for i in range(len(venue_data)):\n",
    "        for n in range(len(venue_data[i])):\n",
    "            name = venue_data[i][n]['name']\n",
    "            country = venue_data[i][n]['location']['country']\n",
    "            category = venue_data[i][n]['categories']\n",
    "            near_station = cb_df['Station Name'][i]\n",
    "            info = pd.Series({'name':name, 'country':country, 'categories':category, 'near_station':near_station})\n",
    "            print(info)\n",
    "            df = pd.concat([df,info.to_frame().T],ignore_index=True)\n",
    "    \n",
    "    return df"
   ]
  },
  {
   "cell_type": "code",
   "execution_count": null,
   "metadata": {},
   "outputs": [],
   "source": [
    "venue_data = data_extract(venue_data, hotspots_data, cb_df)"
   ]
  },
  {
   "cell_type": "code",
   "execution_count": 75,
   "metadata": {},
   "outputs": [],
   "source": [
    "venue_data.to_csv('foursquare_venue.csv', index=False)"
   ]
  },
  {
   "cell_type": "code",
   "execution_count": null,
   "metadata": {},
   "outputs": [],
   "source": []
  },
  {
   "cell_type": "markdown",
   "metadata": {},
   "source": [
    "# Yelp"
   ]
  },
  {
   "cell_type": "markdown",
   "metadata": {},
   "source": [
    "Send a request to Yelp with a small radius (1000m) for all the bike stations in your city of choice. "
   ]
  },
  {
   "cell_type": "code",
   "execution_count": 81,
   "metadata": {},
   "outputs": [
    {
     "name": "stdout",
     "output_type": "stream",
     "text": [
      "43.60038605818475 1.464093716152017\n",
      "00197 - CASERNE PERIGNON\n"
     ]
    }
   ],
   "source": [
    "print(latitude[0],longitude[0])\n",
    "print(station_name[0])"
   ]
  },
  {
   "cell_type": "code",
   "execution_count": 77,
   "metadata": {},
   "outputs": [],
   "source": [
    "yelp_api_key = 'API_KEY'"
   ]
  },
  {
   "cell_type": "code",
   "execution_count": null,
   "metadata": {},
   "outputs": [],
   "source": [
    "yelp_url = 'https://api.yelp.com/v3/businesses/search?' + 'latitude=' + str(latitude[0]) + '&longitude=' + str(longitude[0]) + '&radius=1000&categories=football%2Cbars%2Cjazzandblues%2Ccafes&sort_by=best_match&limit=20'\n",
    "headers = {\"accept\": \"application/json\"}\n",
    "headers['Authorization'] = 'Bearer ' + yelp_api_key\n",
    "response_yelp = requests.get(yelp_url, headers = headers)\n",
    "print(response_yelp.text)\n"
   ]
  },
  {
   "cell_type": "markdown",
   "metadata": {},
   "source": [
    "Parse through the response to get the POI (such as restaurants, bars, etc) details you want (ratings, name, location, etc)"
   ]
  },
  {
   "cell_type": "code",
   "execution_count": 121,
   "metadata": {},
   "outputs": [],
   "source": [
    "yelp_list = []\n",
    "for i in range(len(latitude)):\n",
    "    yelp_url = 'https://api.yelp.com/v3/businesses/search?' + 'latitude=' + str(latitude[i]) + '&longitude=' + str(longitude[i]) + '&radius=1000&categories=football%2Cbars%2Cjazzandblues%2Ccafes&sort_by=best_match&limit=20'\n",
    "    headers = {\"Accept\":\"application/json\"}\n",
    "    headers['Authorization'] = 'Bearer ' + yelp_api_key\n",
    "    response_yelp = requests.get(yelp_url, headers=headers)\n",
    "    yelp_list.append(response_yelp.json())\n"
   ]
  },
  {
   "cell_type": "code",
   "execution_count": 89,
   "metadata": {},
   "outputs": [
    {
     "data": {
      "text/plain": [
       "{'id': 'SU3dxcSBVxG4AiXO0V8QMw',\n",
       " 'alias': 'de-danú-toulouse',\n",
       " 'name': 'De Danú',\n",
       " 'image_url': 'https://s3-media2.fl.yelpcdn.com/bphoto/crV-aVB_d8FEPpekzahRGA/o.jpg',\n",
       " 'is_closed': False,\n",
       " 'url': 'https://www.yelp.com/biz/de-dan%C3%BA-toulouse?adjust_creative=Jz48_hIhAC1KqmvqmPZMpQ&utm_campaign=yelp_api_v3&utm_medium=api_v3_business_search&utm_source=Jz48_hIhAC1KqmvqmPZMpQ',\n",
       " 'review_count': 84,\n",
       " 'categories': [{'alias': 'irish_pubs', 'title': 'Irish Pub'}],\n",
       " 'rating': 4.0,\n",
       " 'coordinates': {'latitude': 43.6007, 'longitude': 1.4558899},\n",
       " 'transactions': [],\n",
       " 'price': '€€',\n",
       " 'location': {'address1': '9 rue du Pont Guilhemery',\n",
       "  'address2': None,\n",
       "  'address3': None,\n",
       "  'city': 'Toulouse',\n",
       "  'zip_code': '31000',\n",
       "  'country': 'FR',\n",
       "  'state': '31',\n",
       "  'display_address': ['9 rue du Pont Guilhemery', '31000 Toulouse', 'France']},\n",
       " 'phone': '+33561625879',\n",
       " 'display_phone': '+33 5 61 62 58 79',\n",
       " 'distance': 663.219433565249}"
      ]
     },
     "execution_count": 89,
     "metadata": {},
     "output_type": "execute_result"
    }
   ],
   "source": [
    "yelp_list[0]['businesses'][0]"
   ]
  },
  {
   "cell_type": "markdown",
   "metadata": {},
   "source": [
    "Put your parsed results into a DataFrame"
   ]
  },
  {
   "cell_type": "code",
   "execution_count": 107,
   "metadata": {},
   "outputs": [
    {
     "data": {
      "text/html": [
       "<div>\n",
       "<style scoped>\n",
       "    .dataframe tbody tr th:only-of-type {\n",
       "        vertical-align: middle;\n",
       "    }\n",
       "\n",
       "    .dataframe tbody tr th {\n",
       "        vertical-align: top;\n",
       "    }\n",
       "\n",
       "    .dataframe thead th {\n",
       "        text-align: right;\n",
       "    }\n",
       "</style>\n",
       "<table border=\"1\" class=\"dataframe\">\n",
       "  <thead>\n",
       "    <tr style=\"text-align: right;\">\n",
       "      <th></th>\n",
       "      <th>name</th>\n",
       "      <th>country</th>\n",
       "      <th>city</th>\n",
       "      <th>categories</th>\n",
       "      <th>review_count</th>\n",
       "      <th>rating</th>\n",
       "      <th>near_station</th>\n",
       "    </tr>\n",
       "  </thead>\n",
       "  <tbody>\n",
       "  </tbody>\n",
       "</table>\n",
       "</div>"
      ],
      "text/plain": [
       "Empty DataFrame\n",
       "Columns: [name, country, city, categories, review_count, rating, near_station]\n",
       "Index: []"
      ]
     },
     "execution_count": 107,
     "metadata": {},
     "output_type": "execute_result"
    }
   ],
   "source": [
    "yelp_venue_data= pd.DataFrame(columns=['name','country','city','categories','review_count','rating','near_station'])\n",
    "yelp_venue_data"
   ]
  },
  {
   "cell_type": "code",
   "execution_count": 112,
   "metadata": {},
   "outputs": [],
   "source": [
    "def data_extract_yelp(df, yelp_venue_data, cb_df):\n",
    "    for i in range(len(yelp_venue_data)):\n",
    "        for n in range(len(yelp_venue_data[i]['businesses'])):\n",
    "            name = yelp_venue_data[i]['businesses'][n]['name']\n",
    "            country = yelp_venue_data[i]['businesses'][n]['location']['country']\n",
    "            city = yelp_venue_data[i]['businesses'][n]['location']['city']\n",
    "            categories = yelp_venue_data[i]['businesses'][n]['categories']\n",
    "            review_count = yelp_venue_data[i]['businesses'][n]['review_count']\n",
    "            rating = yelp_venue_data[i]['businesses'][n]['rating']\n",
    "            near_station = cb_df['Station Name'][i]\n",
    "            info = pd.Series({'name':name, \n",
    "                              'country':country, \n",
    "                              'city':city,\n",
    "                              'categories': categories, \n",
    "                              'review_count':review_count,\n",
    "                              'rating':rating,\n",
    "                              'near_station':near_station})\n",
    "            df = pd.concat([df,info.to_frame().T],ignore_index=True)\n",
    "    return df\n"
   ]
  },
  {
   "cell_type": "code",
   "execution_count": 113,
   "metadata": {},
   "outputs": [],
   "source": [
    "yelp_venue_data = data_extract_yelp(yelp_venue_data, yelp_list, cb_df)"
   ]
  },
  {
   "cell_type": "code",
   "execution_count": 114,
   "metadata": {},
   "outputs": [
    {
     "data": {
      "text/html": [
       "<div>\n",
       "<style scoped>\n",
       "    .dataframe tbody tr th:only-of-type {\n",
       "        vertical-align: middle;\n",
       "    }\n",
       "\n",
       "    .dataframe tbody tr th {\n",
       "        vertical-align: top;\n",
       "    }\n",
       "\n",
       "    .dataframe thead th {\n",
       "        text-align: right;\n",
       "    }\n",
       "</style>\n",
       "<table border=\"1\" class=\"dataframe\">\n",
       "  <thead>\n",
       "    <tr style=\"text-align: right;\">\n",
       "      <th></th>\n",
       "      <th>name</th>\n",
       "      <th>country</th>\n",
       "      <th>city</th>\n",
       "      <th>categories</th>\n",
       "      <th>review_count</th>\n",
       "      <th>rating</th>\n",
       "      <th>near_station</th>\n",
       "    </tr>\n",
       "  </thead>\n",
       "  <tbody>\n",
       "    <tr>\n",
       "      <th>0</th>\n",
       "      <td>De Danú</td>\n",
       "      <td>FR</td>\n",
       "      <td>Toulouse</td>\n",
       "      <td>[{'alias': 'irish_pubs', 'title': 'Irish Pub'}]</td>\n",
       "      <td>84</td>\n",
       "      <td>4.0</td>\n",
       "      <td>00197 - CASERNE PERIGNON</td>\n",
       "    </tr>\n",
       "    <tr>\n",
       "      <th>1</th>\n",
       "      <td>La Dynamo</td>\n",
       "      <td>FR</td>\n",
       "      <td>Toulouse</td>\n",
       "      <td>[{'alias': 'danceclubs', 'title': 'Dance Clubs...</td>\n",
       "      <td>31</td>\n",
       "      <td>4.5</td>\n",
       "      <td>00197 - CASERNE PERIGNON</td>\n",
       "    </tr>\n",
       "    <tr>\n",
       "      <th>2</th>\n",
       "      <td>Au Poêle de la Bête</td>\n",
       "      <td>FR</td>\n",
       "      <td>Toulouse</td>\n",
       "      <td>[{'alias': 'tapas', 'title': 'Tapas Bars'}, {'...</td>\n",
       "      <td>18</td>\n",
       "      <td>4.5</td>\n",
       "      <td>00197 - CASERNE PERIGNON</td>\n",
       "    </tr>\n",
       "    <tr>\n",
       "      <th>3</th>\n",
       "      <td>L'Heure du Singe</td>\n",
       "      <td>FR</td>\n",
       "      <td>Toulouse</td>\n",
       "      <td>[{'alias': 'cocktailbars', 'title': 'Cocktail ...</td>\n",
       "      <td>17</td>\n",
       "      <td>4.5</td>\n",
       "      <td>00197 - CASERNE PERIGNON</td>\n",
       "    </tr>\n",
       "    <tr>\n",
       "      <th>4</th>\n",
       "      <td>Puerto Habana</td>\n",
       "      <td>FR</td>\n",
       "      <td>Toulouse</td>\n",
       "      <td>[{'alias': 'tapasmallplates', 'title': 'Tapas/...</td>\n",
       "      <td>33</td>\n",
       "      <td>3.5</td>\n",
       "      <td>00197 - CASERNE PERIGNON</td>\n",
       "    </tr>\n",
       "    <tr>\n",
       "      <th>...</th>\n",
       "      <td>...</td>\n",
       "      <td>...</td>\n",
       "      <td>...</td>\n",
       "      <td>...</td>\n",
       "      <td>...</td>\n",
       "      <td>...</td>\n",
       "      <td>...</td>\n",
       "    </tr>\n",
       "    <tr>\n",
       "      <th>95</th>\n",
       "      <td>Le Seize</td>\n",
       "      <td>FR</td>\n",
       "      <td>Toulouse</td>\n",
       "      <td>[{'alias': 'brasseries', 'title': 'Brasseries'...</td>\n",
       "      <td>3</td>\n",
       "      <td>3.0</td>\n",
       "      <td>00242 -  RAIMBAUD - COLETTE</td>\n",
       "    </tr>\n",
       "    <tr>\n",
       "      <th>96</th>\n",
       "      <td>Le Seizième</td>\n",
       "      <td>FR</td>\n",
       "      <td>Toulouse</td>\n",
       "      <td>[{'alias': 'bars', 'title': 'Bars'}]</td>\n",
       "      <td>1</td>\n",
       "      <td>4.0</td>\n",
       "      <td>00242 -  RAIMBAUD - COLETTE</td>\n",
       "    </tr>\n",
       "    <tr>\n",
       "      <th>97</th>\n",
       "      <td>Karting Café</td>\n",
       "      <td>FR</td>\n",
       "      <td>Toulouse</td>\n",
       "      <td>[{'alias': 'cafes', 'title': 'Cafes'}]</td>\n",
       "      <td>2</td>\n",
       "      <td>3.0</td>\n",
       "      <td>00242 -  RAIMBAUD - COLETTE</td>\n",
       "    </tr>\n",
       "    <tr>\n",
       "      <th>98</th>\n",
       "      <td>Les Oliviers</td>\n",
       "      <td>FR</td>\n",
       "      <td>Toulouse</td>\n",
       "      <td>[{'alias': 'cafes', 'title': 'Cafes'}, {'alias...</td>\n",
       "      <td>1</td>\n",
       "      <td>5.0</td>\n",
       "      <td>00224 - CAMPUS SUPAERO</td>\n",
       "    </tr>\n",
       "    <tr>\n",
       "      <th>99</th>\n",
       "      <td>UrbanSoccer</td>\n",
       "      <td>FR</td>\n",
       "      <td>Toulouse</td>\n",
       "      <td>[{'alias': 'football', 'title': 'Soccer'}]</td>\n",
       "      <td>1</td>\n",
       "      <td>4.0</td>\n",
       "      <td>00224 - CAMPUS SUPAERO</td>\n",
       "    </tr>\n",
       "  </tbody>\n",
       "</table>\n",
       "<p>100 rows × 7 columns</p>\n",
       "</div>"
      ],
      "text/plain": [
       "                   name country      city  \\\n",
       "0               De Danú      FR  Toulouse   \n",
       "1             La Dynamo      FR  Toulouse   \n",
       "2   Au Poêle de la Bête      FR  Toulouse   \n",
       "3      L'Heure du Singe      FR  Toulouse   \n",
       "4         Puerto Habana      FR  Toulouse   \n",
       "..                  ...     ...       ...   \n",
       "95             Le Seize      FR  Toulouse   \n",
       "96          Le Seizième      FR  Toulouse   \n",
       "97         Karting Café      FR  Toulouse   \n",
       "98         Les Oliviers      FR  Toulouse   \n",
       "99          UrbanSoccer      FR  Toulouse   \n",
       "\n",
       "                                           categories review_count rating  \\\n",
       "0     [{'alias': 'irish_pubs', 'title': 'Irish Pub'}]           84    4.0   \n",
       "1   [{'alias': 'danceclubs', 'title': 'Dance Clubs...           31    4.5   \n",
       "2   [{'alias': 'tapas', 'title': 'Tapas Bars'}, {'...           18    4.5   \n",
       "3   [{'alias': 'cocktailbars', 'title': 'Cocktail ...           17    4.5   \n",
       "4   [{'alias': 'tapasmallplates', 'title': 'Tapas/...           33    3.5   \n",
       "..                                                ...          ...    ...   \n",
       "95  [{'alias': 'brasseries', 'title': 'Brasseries'...            3    3.0   \n",
       "96               [{'alias': 'bars', 'title': 'Bars'}]            1    4.0   \n",
       "97             [{'alias': 'cafes', 'title': 'Cafes'}]            2    3.0   \n",
       "98  [{'alias': 'cafes', 'title': 'Cafes'}, {'alias...            1    5.0   \n",
       "99         [{'alias': 'football', 'title': 'Soccer'}]            1    4.0   \n",
       "\n",
       "                   near_station  \n",
       "0      00197 - CASERNE PERIGNON  \n",
       "1      00197 - CASERNE PERIGNON  \n",
       "2      00197 - CASERNE PERIGNON  \n",
       "3      00197 - CASERNE PERIGNON  \n",
       "4      00197 - CASERNE PERIGNON  \n",
       "..                          ...  \n",
       "95  00242 -  RAIMBAUD - COLETTE  \n",
       "96  00242 -  RAIMBAUD - COLETTE  \n",
       "97  00242 -  RAIMBAUD - COLETTE  \n",
       "98       00224 - CAMPUS SUPAERO  \n",
       "99       00224 - CAMPUS SUPAERO  \n",
       "\n",
       "[100 rows x 7 columns]"
      ]
     },
     "execution_count": 114,
     "metadata": {},
     "output_type": "execute_result"
    }
   ],
   "source": [
    "yelp_venue_data"
   ]
  },
  {
   "cell_type": "code",
   "execution_count": 115,
   "metadata": {},
   "outputs": [],
   "source": [
    "yelp_venue_data.to_csv('yelp_venue.csv', index = False)"
   ]
  },
  {
   "cell_type": "markdown",
   "metadata": {},
   "source": [
    "# Comparing Results"
   ]
  },
  {
   "cell_type": "markdown",
   "metadata": {},
   "source": [
    "Which API provided you with more complete data? Provide an explanation. "
   ]
  },
  {
   "cell_type": "markdown",
   "metadata": {},
   "source": [
    "Both API's provided reliable data but differed in the insights they offer. Foursquare offered a greater volume of rows or raw data but did not offer much details in the way of parameters. Yelp API offered inverse results where it return less quantity of overall data overall, but for the data it did return, it offered greater context/detail through columns like review count and rating."
   ]
  },
  {
   "cell_type": "markdown",
   "metadata": {},
   "source": [
    "Get the top 10 restaurants according to their rating"
   ]
  },
  {
   "cell_type": "code",
   "execution_count": 119,
   "metadata": {},
   "outputs": [
    {
     "data": {
      "text/html": [
       "<div>\n",
       "<style scoped>\n",
       "    .dataframe tbody tr th:only-of-type {\n",
       "        vertical-align: middle;\n",
       "    }\n",
       "\n",
       "    .dataframe tbody tr th {\n",
       "        vertical-align: top;\n",
       "    }\n",
       "\n",
       "    .dataframe thead th {\n",
       "        text-align: right;\n",
       "    }\n",
       "</style>\n",
       "<table border=\"1\" class=\"dataframe\">\n",
       "  <thead>\n",
       "    <tr style=\"text-align: right;\">\n",
       "      <th></th>\n",
       "      <th>name</th>\n",
       "      <th>country</th>\n",
       "      <th>city</th>\n",
       "      <th>categories</th>\n",
       "      <th>review_count</th>\n",
       "      <th>rating</th>\n",
       "      <th>near_station</th>\n",
       "    </tr>\n",
       "  </thead>\n",
       "  <tbody>\n",
       "    <tr>\n",
       "      <th>98</th>\n",
       "      <td>Les Oliviers</td>\n",
       "      <td>FR</td>\n",
       "      <td>Toulouse</td>\n",
       "      <td>[{'alias': 'cafes', 'title': 'Cafes'}, {'alias...</td>\n",
       "      <td>1</td>\n",
       "      <td>5.0</td>\n",
       "      <td>00224 - CAMPUS SUPAERO</td>\n",
       "    </tr>\n",
       "    <tr>\n",
       "      <th>37</th>\n",
       "      <td>Animaé Bar</td>\n",
       "      <td>FR</td>\n",
       "      <td>Toulouse</td>\n",
       "      <td>[{'alias': 'bars', 'title': 'Bars'}]</td>\n",
       "      <td>1</td>\n",
       "      <td>5.0</td>\n",
       "      <td>00213 - PUJOL - CHAUBET</td>\n",
       "    </tr>\n",
       "    <tr>\n",
       "      <th>36</th>\n",
       "      <td>Chez Nous</td>\n",
       "      <td>FR</td>\n",
       "      <td>Toulouse</td>\n",
       "      <td>[{'alias': 'bars', 'title': 'Bars'}]</td>\n",
       "      <td>1</td>\n",
       "      <td>5.0</td>\n",
       "      <td>00213 - PUJOL - CHAUBET</td>\n",
       "    </tr>\n",
       "    <tr>\n",
       "      <th>30</th>\n",
       "      <td>Le Tartacs</td>\n",
       "      <td>FR</td>\n",
       "      <td>Toulouse</td>\n",
       "      <td>[{'alias': 'bars', 'title': 'Bars'}]</td>\n",
       "      <td>2</td>\n",
       "      <td>5.0</td>\n",
       "      <td>00213 - PUJOL - CHAUBET</td>\n",
       "    </tr>\n",
       "    <tr>\n",
       "      <th>33</th>\n",
       "      <td>La Salsathèque</td>\n",
       "      <td>FR</td>\n",
       "      <td>Toulouse</td>\n",
       "      <td>[{'alias': 'dance_schools', 'title': 'Dance Sc...</td>\n",
       "      <td>1</td>\n",
       "      <td>5.0</td>\n",
       "      <td>00213 - PUJOL - CHAUBET</td>\n",
       "    </tr>\n",
       "    <tr>\n",
       "      <th>70</th>\n",
       "      <td>Les Complices</td>\n",
       "      <td>FR</td>\n",
       "      <td>Toulouse</td>\n",
       "      <td>[{'alias': 'french', 'title': 'French'}, {'ali...</td>\n",
       "      <td>11</td>\n",
       "      <td>4.5</td>\n",
       "      <td>00195 - LARROUSSE - RIEUX</td>\n",
       "    </tr>\n",
       "    <tr>\n",
       "      <th>57</th>\n",
       "      <td>Bar L'Autan</td>\n",
       "      <td>FR</td>\n",
       "      <td>Toulouse</td>\n",
       "      <td>[{'alias': 'bars', 'title': 'Bars'}, {'alias':...</td>\n",
       "      <td>16</td>\n",
       "      <td>4.5</td>\n",
       "      <td>00055 - SAINT-SERNIN - G. ARNOULT</td>\n",
       "    </tr>\n",
       "    <tr>\n",
       "      <th>21</th>\n",
       "      <td>La Dynamo</td>\n",
       "      <td>FR</td>\n",
       "      <td>Toulouse</td>\n",
       "      <td>[{'alias': 'danceclubs', 'title': 'Dance Clubs...</td>\n",
       "      <td>31</td>\n",
       "      <td>4.5</td>\n",
       "      <td>00213 - PUJOL - CHAUBET</td>\n",
       "    </tr>\n",
       "    <tr>\n",
       "      <th>67</th>\n",
       "      <td>L'Heure du Singe</td>\n",
       "      <td>FR</td>\n",
       "      <td>Toulouse</td>\n",
       "      <td>[{'alias': 'cocktailbars', 'title': 'Cocktail ...</td>\n",
       "      <td>17</td>\n",
       "      <td>4.5</td>\n",
       "      <td>00195 - LARROUSSE - RIEUX</td>\n",
       "    </tr>\n",
       "    <tr>\n",
       "      <th>66</th>\n",
       "      <td>La Dynamo</td>\n",
       "      <td>FR</td>\n",
       "      <td>Toulouse</td>\n",
       "      <td>[{'alias': 'danceclubs', 'title': 'Dance Clubs...</td>\n",
       "      <td>31</td>\n",
       "      <td>4.5</td>\n",
       "      <td>00195 - LARROUSSE - RIEUX</td>\n",
       "    </tr>\n",
       "  </tbody>\n",
       "</table>\n",
       "</div>"
      ],
      "text/plain": [
       "                name country      city  \\\n",
       "98      Les Oliviers      FR  Toulouse   \n",
       "37        Animaé Bar      FR  Toulouse   \n",
       "36         Chez Nous      FR  Toulouse   \n",
       "30        Le Tartacs      FR  Toulouse   \n",
       "33    La Salsathèque      FR  Toulouse   \n",
       "70     Les Complices      FR  Toulouse   \n",
       "57       Bar L'Autan      FR  Toulouse   \n",
       "21         La Dynamo      FR  Toulouse   \n",
       "67  L'Heure du Singe      FR  Toulouse   \n",
       "66         La Dynamo      FR  Toulouse   \n",
       "\n",
       "                                           categories review_count rating  \\\n",
       "98  [{'alias': 'cafes', 'title': 'Cafes'}, {'alias...            1    5.0   \n",
       "37               [{'alias': 'bars', 'title': 'Bars'}]            1    5.0   \n",
       "36               [{'alias': 'bars', 'title': 'Bars'}]            1    5.0   \n",
       "30               [{'alias': 'bars', 'title': 'Bars'}]            2    5.0   \n",
       "33  [{'alias': 'dance_schools', 'title': 'Dance Sc...            1    5.0   \n",
       "70  [{'alias': 'french', 'title': 'French'}, {'ali...           11    4.5   \n",
       "57  [{'alias': 'bars', 'title': 'Bars'}, {'alias':...           16    4.5   \n",
       "21  [{'alias': 'danceclubs', 'title': 'Dance Clubs...           31    4.5   \n",
       "67  [{'alias': 'cocktailbars', 'title': 'Cocktail ...           17    4.5   \n",
       "66  [{'alias': 'danceclubs', 'title': 'Dance Clubs...           31    4.5   \n",
       "\n",
       "                         near_station  \n",
       "98             00224 - CAMPUS SUPAERO  \n",
       "37            00213 - PUJOL - CHAUBET  \n",
       "36            00213 - PUJOL - CHAUBET  \n",
       "30            00213 - PUJOL - CHAUBET  \n",
       "33            00213 - PUJOL - CHAUBET  \n",
       "70          00195 - LARROUSSE - RIEUX  \n",
       "57  00055 - SAINT-SERNIN - G. ARNOULT  \n",
       "21            00213 - PUJOL - CHAUBET  \n",
       "67          00195 - LARROUSSE - RIEUX  \n",
       "66          00195 - LARROUSSE - RIEUX  "
      ]
     },
     "execution_count": 119,
     "metadata": {},
     "output_type": "execute_result"
    }
   ],
   "source": [
    "yelp_venue_data.sort_values(by=['rating'], ascending=[False]).head(10)"
   ]
  },
  {
   "cell_type": "code",
   "execution_count": null,
   "metadata": {},
   "outputs": [],
   "source": []
  }
 ],
 "metadata": {
  "kernelspec": {
   "display_name": "Python 3.8.15 ('THE_ONE')",
   "language": "python",
   "name": "python3"
  },
  "language_info": {
   "codemirror_mode": {
    "name": "ipython",
    "version": 3
   },
   "file_extension": ".py",
   "mimetype": "text/x-python",
   "name": "python",
   "nbconvert_exporter": "python",
   "pygments_lexer": "ipython3",
   "version": "3.8.15"
  },
  "vscode": {
   "interpreter": {
    "hash": "6ad95572a1c15de1d0b8eca79c7b9cd5028505873e2c71ff56ffc4343ef0b428"
   }
  }
 },
 "nbformat": 4,
 "nbformat_minor": 4
}
