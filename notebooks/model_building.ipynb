{
 "cells": [
  {
   "cell_type": "markdown",
   "metadata": {},
   "source": [
    "Build a regression model."
   ]
  },
  {
   "cell_type": "code",
   "execution_count": 1,
   "metadata": {},
   "outputs": [],
   "source": [
    "import numpy as np\n",
    "import pandas as pd \n",
    "import statsmodels.api as sm\n",
    "import matplotlib.pyplot as plt \n",
    "import seaborn as sns"
   ]
  },
  {
   "cell_type": "code",
   "execution_count": 2,
   "metadata": {},
   "outputs": [],
   "source": [
    "citybikes_df = pd.read_csv('/Users/Oswal/Documents/GitHub/Project-Week-3/data/Toulouse_Data.csv')"
   ]
  },
  {
   "cell_type": "code",
   "execution_count": 3,
   "metadata": {},
   "outputs": [],
   "source": [
    "city_yelp_df = pd.read_csv('/Users/Oswal/Documents/GitHub/Project-Week-3/data/city_yelp_data.csv')"
   ]
  },
  {
   "cell_type": "code",
   "execution_count": 4,
   "metadata": {},
   "outputs": [],
   "source": [
    "city_foursquare_df = pd.read_csv('/Users/Oswal/Documents/GitHub/Project-Week-3/data/city_foursquare_data.csv')"
   ]
  },
  {
   "cell_type": "code",
   "execution_count": 5,
   "metadata": {},
   "outputs": [
    {
     "data": {
      "text/html": [
       "<div>\n",
       "<style scoped>\n",
       "    .dataframe tbody tr th:only-of-type {\n",
       "        vertical-align: middle;\n",
       "    }\n",
       "\n",
       "    .dataframe tbody tr th {\n",
       "        vertical-align: top;\n",
       "    }\n",
       "\n",
       "    .dataframe thead th {\n",
       "        text-align: right;\n",
       "    }\n",
       "</style>\n",
       "<table border=\"1\" class=\"dataframe\">\n",
       "  <thead>\n",
       "    <tr style=\"text-align: right;\">\n",
       "      <th></th>\n",
       "      <th>name</th>\n",
       "      <th>country</th>\n",
       "      <th>city</th>\n",
       "      <th>categories</th>\n",
       "      <th>review_count</th>\n",
       "      <th>rating</th>\n",
       "      <th>near_station</th>\n",
       "      <th>Address</th>\n",
       "      <th>empty_slots</th>\n",
       "      <th>free_bikes</th>\n",
       "      <th>latitude</th>\n",
       "      <th>longitude</th>\n",
       "      <th>timestamp</th>\n",
       "      <th>Unique ID</th>\n",
       "    </tr>\n",
       "  </thead>\n",
       "  <tbody>\n",
       "    <tr>\n",
       "      <th>0</th>\n",
       "      <td>De Danú</td>\n",
       "      <td>FR</td>\n",
       "      <td>Toulouse</td>\n",
       "      <td>[{'alias': 'irish_pubs', 'title': 'Irish Pub'}]</td>\n",
       "      <td>84</td>\n",
       "      <td>4.0</td>\n",
       "      <td>00197 - CASERNE PERIGNON</td>\n",
       "      <td>6 AV LOUIS BLERIOT</td>\n",
       "      <td>19</td>\n",
       "      <td>1</td>\n",
       "      <td>43.600386</td>\n",
       "      <td>1.464094</td>\n",
       "      <td>2022-12-05T00:29:57.070000Z</td>\n",
       "      <td>197</td>\n",
       "    </tr>\n",
       "    <tr>\n",
       "      <th>1</th>\n",
       "      <td>La Dynamo</td>\n",
       "      <td>FR</td>\n",
       "      <td>Toulouse</td>\n",
       "      <td>[{'alias': 'danceclubs', 'title': 'Dance Clubs...</td>\n",
       "      <td>31</td>\n",
       "      <td>4.5</td>\n",
       "      <td>00197 - CASERNE PERIGNON</td>\n",
       "      <td>6 AV LOUIS BLERIOT</td>\n",
       "      <td>19</td>\n",
       "      <td>1</td>\n",
       "      <td>43.600386</td>\n",
       "      <td>1.464094</td>\n",
       "      <td>2022-12-05T00:29:57.070000Z</td>\n",
       "      <td>197</td>\n",
       "    </tr>\n",
       "    <tr>\n",
       "      <th>2</th>\n",
       "      <td>Au Poêle de la Bête</td>\n",
       "      <td>FR</td>\n",
       "      <td>Toulouse</td>\n",
       "      <td>[{'alias': 'tapas', 'title': 'Tapas Bars'}, {'...</td>\n",
       "      <td>18</td>\n",
       "      <td>4.5</td>\n",
       "      <td>00197 - CASERNE PERIGNON</td>\n",
       "      <td>6 AV LOUIS BLERIOT</td>\n",
       "      <td>19</td>\n",
       "      <td>1</td>\n",
       "      <td>43.600386</td>\n",
       "      <td>1.464094</td>\n",
       "      <td>2022-12-05T00:29:57.070000Z</td>\n",
       "      <td>197</td>\n",
       "    </tr>\n",
       "    <tr>\n",
       "      <th>3</th>\n",
       "      <td>L'Heure du Singe</td>\n",
       "      <td>FR</td>\n",
       "      <td>Toulouse</td>\n",
       "      <td>[{'alias': 'cocktailbars', 'title': 'Cocktail ...</td>\n",
       "      <td>17</td>\n",
       "      <td>4.5</td>\n",
       "      <td>00197 - CASERNE PERIGNON</td>\n",
       "      <td>6 AV LOUIS BLERIOT</td>\n",
       "      <td>19</td>\n",
       "      <td>1</td>\n",
       "      <td>43.600386</td>\n",
       "      <td>1.464094</td>\n",
       "      <td>2022-12-05T00:29:57.070000Z</td>\n",
       "      <td>197</td>\n",
       "    </tr>\n",
       "    <tr>\n",
       "      <th>4</th>\n",
       "      <td>Puerto Habana</td>\n",
       "      <td>FR</td>\n",
       "      <td>Toulouse</td>\n",
       "      <td>[{'alias': 'tapasmallplates', 'title': 'Tapas/...</td>\n",
       "      <td>33</td>\n",
       "      <td>3.5</td>\n",
       "      <td>00197 - CASERNE PERIGNON</td>\n",
       "      <td>6 AV LOUIS BLERIOT</td>\n",
       "      <td>19</td>\n",
       "      <td>1</td>\n",
       "      <td>43.600386</td>\n",
       "      <td>1.464094</td>\n",
       "      <td>2022-12-05T00:29:57.070000Z</td>\n",
       "      <td>197</td>\n",
       "    </tr>\n",
       "  </tbody>\n",
       "</table>\n",
       "</div>"
      ],
      "text/plain": [
       "                  name country      city  \\\n",
       "0              De Danú      FR  Toulouse   \n",
       "1            La Dynamo      FR  Toulouse   \n",
       "2  Au Poêle de la Bête      FR  Toulouse   \n",
       "3     L'Heure du Singe      FR  Toulouse   \n",
       "4        Puerto Habana      FR  Toulouse   \n",
       "\n",
       "                                          categories  review_count  rating  \\\n",
       "0    [{'alias': 'irish_pubs', 'title': 'Irish Pub'}]            84     4.0   \n",
       "1  [{'alias': 'danceclubs', 'title': 'Dance Clubs...            31     4.5   \n",
       "2  [{'alias': 'tapas', 'title': 'Tapas Bars'}, {'...            18     4.5   \n",
       "3  [{'alias': 'cocktailbars', 'title': 'Cocktail ...            17     4.5   \n",
       "4  [{'alias': 'tapasmallplates', 'title': 'Tapas/...            33     3.5   \n",
       "\n",
       "               near_station             Address  empty_slots  free_bikes  \\\n",
       "0  00197 - CASERNE PERIGNON  6 AV LOUIS BLERIOT           19           1   \n",
       "1  00197 - CASERNE PERIGNON  6 AV LOUIS BLERIOT           19           1   \n",
       "2  00197 - CASERNE PERIGNON  6 AV LOUIS BLERIOT           19           1   \n",
       "3  00197 - CASERNE PERIGNON  6 AV LOUIS BLERIOT           19           1   \n",
       "4  00197 - CASERNE PERIGNON  6 AV LOUIS BLERIOT           19           1   \n",
       "\n",
       "    latitude  longitude                    timestamp  Unique ID  \n",
       "0  43.600386   1.464094  2022-12-05T00:29:57.070000Z        197  \n",
       "1  43.600386   1.464094  2022-12-05T00:29:57.070000Z        197  \n",
       "2  43.600386   1.464094  2022-12-05T00:29:57.070000Z        197  \n",
       "3  43.600386   1.464094  2022-12-05T00:29:57.070000Z        197  \n",
       "4  43.600386   1.464094  2022-12-05T00:29:57.070000Z        197  "
      ]
     },
     "execution_count": 5,
     "metadata": {},
     "output_type": "execute_result"
    }
   ],
   "source": [
    "city_yelp_df.head()"
   ]
  },
  {
   "cell_type": "code",
   "execution_count": 6,
   "metadata": {},
   "outputs": [
    {
     "data": {
      "text/html": [
       "<div>\n",
       "<style scoped>\n",
       "    .dataframe tbody tr th:only-of-type {\n",
       "        vertical-align: middle;\n",
       "    }\n",
       "\n",
       "    .dataframe tbody tr th {\n",
       "        vertical-align: top;\n",
       "    }\n",
       "\n",
       "    .dataframe thead th {\n",
       "        text-align: right;\n",
       "    }\n",
       "</style>\n",
       "<table border=\"1\" class=\"dataframe\">\n",
       "  <thead>\n",
       "    <tr style=\"text-align: right;\">\n",
       "      <th></th>\n",
       "      <th>name</th>\n",
       "      <th>country</th>\n",
       "      <th>categories</th>\n",
       "      <th>near_station</th>\n",
       "      <th>Address</th>\n",
       "      <th>empty_slots</th>\n",
       "      <th>free_bikes</th>\n",
       "      <th>latitude</th>\n",
       "      <th>longitude</th>\n",
       "      <th>timestamp</th>\n",
       "      <th>Unique ID</th>\n",
       "    </tr>\n",
       "  </thead>\n",
       "  <tbody>\n",
       "    <tr>\n",
       "      <th>0</th>\n",
       "      <td>De Danu</td>\n",
       "      <td>FR</td>\n",
       "      <td>[{'id': 13006, 'name': 'Beer Bar', 'icon': {'p...</td>\n",
       "      <td>00197 - CASERNE PERIGNON</td>\n",
       "      <td>6 AV LOUIS BLERIOT</td>\n",
       "      <td>19</td>\n",
       "      <td>1</td>\n",
       "      <td>43.600386</td>\n",
       "      <td>1.464094</td>\n",
       "      <td>2022-12-05T00:29:57.070000Z</td>\n",
       "      <td>197</td>\n",
       "    </tr>\n",
       "    <tr>\n",
       "      <th>1</th>\n",
       "      <td>De Danu</td>\n",
       "      <td>FR</td>\n",
       "      <td>[{'id': 13006, 'name': 'Beer Bar', 'icon': {'p...</td>\n",
       "      <td>00213 - PUJOL - CHAUBET</td>\n",
       "      <td>129 AV DE CASTRES</td>\n",
       "      <td>16</td>\n",
       "      <td>1</td>\n",
       "      <td>43.600755</td>\n",
       "      <td>1.467514</td>\n",
       "      <td>2022-12-05T00:29:57.109000Z</td>\n",
       "      <td>213</td>\n",
       "    </tr>\n",
       "    <tr>\n",
       "      <th>2</th>\n",
       "      <td>Les Délices de Saturnin</td>\n",
       "      <td>FR</td>\n",
       "      <td>[{'id': 13035, 'name': 'Coffee Shop', 'icon': ...</td>\n",
       "      <td>00055 - SAINT-SERNIN - G. ARNOULT</td>\n",
       "      <td>2 RUE GATIEN ARNOULT</td>\n",
       "      <td>4</td>\n",
       "      <td>11</td>\n",
       "      <td>43.608952</td>\n",
       "      <td>1.441004</td>\n",
       "      <td>2022-12-05T00:29:56.992000Z</td>\n",
       "      <td>55</td>\n",
       "    </tr>\n",
       "    <tr>\n",
       "      <th>3</th>\n",
       "      <td>De Danu</td>\n",
       "      <td>FR</td>\n",
       "      <td>[{'id': 13006, 'name': 'Beer Bar', 'icon': {'p...</td>\n",
       "      <td>00195 - LARROUSSE - RIEUX</td>\n",
       "      <td>FACE 15 RUE PIERRE LAROUSSE</td>\n",
       "      <td>13</td>\n",
       "      <td>5</td>\n",
       "      <td>43.597235</td>\n",
       "      <td>1.459071</td>\n",
       "      <td>2022-12-05T00:29:56.994000Z</td>\n",
       "      <td>195</td>\n",
       "    </tr>\n",
       "    <tr>\n",
       "      <th>4</th>\n",
       "      <td>Le Samourai</td>\n",
       "      <td>FR</td>\n",
       "      <td>[{'id': 13003, 'name': 'Bar', 'icon': {'prefix...</td>\n",
       "      <td>00280 - CHARBONNIERE</td>\n",
       "      <td>RUE DE LA CHARBONNIERE ENTRE IMP AMPERE ET RUE...</td>\n",
       "      <td>8</td>\n",
       "      <td>10</td>\n",
       "      <td>43.573830</td>\n",
       "      <td>1.448710</td>\n",
       "      <td>2022-12-05T00:29:56.996000Z</td>\n",
       "      <td>280</td>\n",
       "    </tr>\n",
       "  </tbody>\n",
       "</table>\n",
       "</div>"
      ],
      "text/plain": [
       "                      name country  \\\n",
       "0                  De Danu      FR   \n",
       "1                  De Danu      FR   \n",
       "2  Les Délices de Saturnin      FR   \n",
       "3                  De Danu      FR   \n",
       "4              Le Samourai      FR   \n",
       "\n",
       "                                          categories  \\\n",
       "0  [{'id': 13006, 'name': 'Beer Bar', 'icon': {'p...   \n",
       "1  [{'id': 13006, 'name': 'Beer Bar', 'icon': {'p...   \n",
       "2  [{'id': 13035, 'name': 'Coffee Shop', 'icon': ...   \n",
       "3  [{'id': 13006, 'name': 'Beer Bar', 'icon': {'p...   \n",
       "4  [{'id': 13003, 'name': 'Bar', 'icon': {'prefix...   \n",
       "\n",
       "                        near_station  \\\n",
       "0           00197 - CASERNE PERIGNON   \n",
       "1            00213 - PUJOL - CHAUBET   \n",
       "2  00055 - SAINT-SERNIN - G. ARNOULT   \n",
       "3          00195 - LARROUSSE - RIEUX   \n",
       "4               00280 - CHARBONNIERE   \n",
       "\n",
       "                                             Address  empty_slots  free_bikes  \\\n",
       "0                                 6 AV LOUIS BLERIOT           19           1   \n",
       "1                                  129 AV DE CASTRES           16           1   \n",
       "2                               2 RUE GATIEN ARNOULT            4          11   \n",
       "3                        FACE 15 RUE PIERRE LAROUSSE           13           5   \n",
       "4  RUE DE LA CHARBONNIERE ENTRE IMP AMPERE ET RUE...            8          10   \n",
       "\n",
       "    latitude  longitude                    timestamp  Unique ID  \n",
       "0  43.600386   1.464094  2022-12-05T00:29:57.070000Z        197  \n",
       "1  43.600755   1.467514  2022-12-05T00:29:57.109000Z        213  \n",
       "2  43.608952   1.441004  2022-12-05T00:29:56.992000Z         55  \n",
       "3  43.597235   1.459071  2022-12-05T00:29:56.994000Z        195  \n",
       "4  43.573830   1.448710  2022-12-05T00:29:56.996000Z        280  "
      ]
     },
     "execution_count": 6,
     "metadata": {},
     "output_type": "execute_result"
    }
   ],
   "source": [
    "city_foursquare_df.head()"
   ]
  },
  {
   "cell_type": "markdown",
   "metadata": {},
   "source": [
    "Provide model output and an interpretation of the results. "
   ]
  },
  {
   "cell_type": "code",
   "execution_count": 18,
   "metadata": {},
   "outputs": [
    {
     "name": "stdout",
     "output_type": "stream",
     "text": [
      "                            OLS Regression Results                            \n",
      "==============================================================================\n",
      "Dep. Variable:           review_count   R-squared:                       0.025\n",
      "Model:                            OLS   Adj. R-squared:                  0.015\n",
      "Method:                 Least Squares   F-statistic:                     2.466\n",
      "Date:                Sun, 11 Dec 2022   Prob (F-statistic):              0.120\n",
      "Time:                        13:21:22   Log-Likelihood:                -476.65\n",
      "No. Observations:                 100   AIC:                             957.3\n",
      "Df Residuals:                      98   BIC:                             962.5\n",
      "Df Model:                           1                                         \n",
      "Covariance Type:            nonrobust                                         \n",
      "===============================================================================\n",
      "                  coef    std err          t      P>|t|      [0.025      0.975]\n",
      "-------------------------------------------------------------------------------\n",
      "const          37.7500      6.223      6.066      0.000      25.400      50.100\n",
      "empty_slots    -0.7513      0.478     -1.570      0.120      -1.701       0.198\n",
      "==============================================================================\n",
      "Omnibus:                       30.033   Durbin-Watson:                   1.038\n",
      "Prob(Omnibus):                  0.000   Jarque-Bera (JB):               46.006\n",
      "Skew:                           1.380   Prob(JB):                     1.02e-10\n",
      "Kurtosis:                       4.851   Cond. No.                         28.3\n",
      "==============================================================================\n",
      "\n",
      "Notes:\n",
      "[1] Standard Errors assume that the covariance matrix of the errors is correctly specified.\n"
     ]
    }
   ],
   "source": [
    "x =  city_yelp_df[\"empty_slots\"]\n",
    "y = city_yelp_df[\"review_count\"]\n",
    "\n",
    "x = sm.add_constant(x)\n",
    "lin_reg = sm.OLS(y,x)\n",
    "model = lin_reg.fit()\n",
    "print(model.summary())"
   ]
  },
  {
   "cell_type": "markdown",
   "metadata": {},
   "source": [
    "# Analysis\n",
    "###  We can see that the R-squared value in this data is 0.025. This would mean that the data does not have a great fit of the model. Generally speaking, this indicates that the model is not representative of the data or that the model does not accurately explain the trend/pattern of the data. \n",
    "\n",
    "### In our p-value we can note wheter the results of the model are statistically significant. Since our p-value is greater than 0.05 (p-value = 0.120), this means that the probability that our variables our are causative. In our case, we can say that the amount of reviews for a venue does not impact the amount free-bikes that are found at the nearest bike station. "
   ]
  },
  {
   "cell_type": "code",
   "execution_count": 19,
   "metadata": {},
   "outputs": [
    {
     "data": {
      "text/plain": [
       "<AxesSubplot: xlabel='review_count', ylabel='empty_slots'>"
      ]
     },
     "execution_count": 19,
     "metadata": {},
     "output_type": "execute_result"
    },
    {
     "data": {
      "image/png": "[encoded data removed]",
      "text/plain": [
       "<Figure size 640x480 with 1 Axes>"
      ]
     },
     "metadata": {},
     "output_type": "display_data"
    }
   ],
   "source": [
    "sns.histplot(city_yelp_df, x='review_count', y='empty_slots', color='red')\n",
    "sns.scatterplot(data = city_yelp_df, x='review_count', y ='empty_slots')"
   ]
  },
  {
   "cell_type": "markdown",
   "metadata": {},
   "source": [
    "# Stretch"
   ]
  },
  {
   "cell_type": "markdown",
   "metadata": {},
   "source": [
    "How can you turn the regression model into a classification model?"
   ]
  },
  {
   "cell_type": "code",
   "execution_count": null,
   "metadata": {},
   "outputs": [],
   "source": []
  }
 ],
 "metadata": {
  "kernelspec": {
   "display_name": "Python 3.8.15 ('THE_ONE')",
   "language": "python",
   "name": "python3"
  },
  "language_info": {
   "codemirror_mode": {
    "name": "ipython",
    "version": 3
   },
   "file_extension": ".py",
   "mimetype": "text/x-python",
   "name": "python",
   "nbconvert_exporter": "python",
   "pygments_lexer": "ipython3",
   "version": "3.8.15"
  },
  "vscode": {
   "interpreter": {
    "hash": "6ad95572a1c15de1d0b8eca79c7b9cd5028505873e2c71ff56ffc4343ef0b428"
   }
  }
 },
 "nbformat": 4,
 "nbformat_minor": 4
}
